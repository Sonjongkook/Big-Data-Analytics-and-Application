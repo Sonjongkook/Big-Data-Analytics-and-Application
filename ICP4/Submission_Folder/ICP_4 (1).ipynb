{
  "nbformat": 4,
  "nbformat_minor": 0,
  "metadata": {
    "colab": {
      "name": "ICP_4",
      "provenance": [],
      "collapsed_sections": []
    },
    "kernelspec": {
      "name": "python3",
      "display_name": "Python 3"
    }
  },
  "cells": [
    {
      "cell_type": "markdown",
      "metadata": {
        "id": "M7E7SnU2rpYn",
        "colab_type": "text"
      },
      "source": [
        "#ICP4"
      ]
    },
    {
      "cell_type": "code",
      "metadata": {
        "id": "ee4aTKdb04zu",
        "colab_type": "code",
        "colab": {
          "base_uri": "https://localhost:8080/",
          "height": 887
        },
        "outputId": "ef256a3b-1102-4932-a156-c821a0c35952"
      },
      "source": [
        "#Import required libraries :\n",
        "import pandas as pd\n",
        "\n",
        "import nltk\n",
        "from nltk import word_tokenize\n",
        "\n",
        "nltk.download(\"popular\")"
      ],
      "execution_count": 1,
      "outputs": [
        {
          "output_type": "stream",
          "text": [
            "[nltk_data] Downloading collection 'popular'\n",
            "[nltk_data]    | \n",
            "[nltk_data]    | Downloading package cmudict to /root/nltk_data...\n",
            "[nltk_data]    |   Package cmudict is already up-to-date!\n",
            "[nltk_data]    | Downloading package gazetteers to /root/nltk_data...\n",
            "[nltk_data]    |   Package gazetteers is already up-to-date!\n",
            "[nltk_data]    | Downloading package genesis to /root/nltk_data...\n",
            "[nltk_data]    |   Package genesis is already up-to-date!\n",
            "[nltk_data]    | Downloading package gutenberg to /root/nltk_data...\n",
            "[nltk_data]    |   Package gutenberg is already up-to-date!\n",
            "[nltk_data]    | Downloading package inaugural to /root/nltk_data...\n",
            "[nltk_data]    |   Package inaugural is already up-to-date!\n",
            "[nltk_data]    | Downloading package movie_reviews to\n",
            "[nltk_data]    |     /root/nltk_data...\n",
            "[nltk_data]    |   Package movie_reviews is already up-to-date!\n",
            "[nltk_data]    | Downloading package names to /root/nltk_data...\n",
            "[nltk_data]    |   Package names is already up-to-date!\n",
            "[nltk_data]    | Downloading package shakespeare to /root/nltk_data...\n",
            "[nltk_data]    |   Package shakespeare is already up-to-date!\n",
            "[nltk_data]    | Downloading package stopwords to /root/nltk_data...\n",
            "[nltk_data]    |   Package stopwords is already up-to-date!\n",
            "[nltk_data]    | Downloading package treebank to /root/nltk_data...\n",
            "[nltk_data]    |   Package treebank is already up-to-date!\n",
            "[nltk_data]    | Downloading package twitter_samples to\n",
            "[nltk_data]    |     /root/nltk_data...\n",
            "[nltk_data]    |   Package twitter_samples is already up-to-date!\n",
            "[nltk_data]    | Downloading package omw to /root/nltk_data...\n",
            "[nltk_data]    |   Package omw is already up-to-date!\n",
            "[nltk_data]    | Downloading package wordnet to /root/nltk_data...\n",
            "[nltk_data]    |   Package wordnet is already up-to-date!\n",
            "[nltk_data]    | Downloading package wordnet_ic to /root/nltk_data...\n",
            "[nltk_data]    |   Package wordnet_ic is already up-to-date!\n",
            "[nltk_data]    | Downloading package words to /root/nltk_data...\n",
            "[nltk_data]    |   Package words is already up-to-date!\n",
            "[nltk_data]    | Downloading package maxent_ne_chunker to\n",
            "[nltk_data]    |     /root/nltk_data...\n",
            "[nltk_data]    |   Package maxent_ne_chunker is already up-to-date!\n",
            "[nltk_data]    | Downloading package punkt to /root/nltk_data...\n",
            "[nltk_data]    |   Package punkt is already up-to-date!\n",
            "[nltk_data]    | Downloading package snowball_data to\n",
            "[nltk_data]    |     /root/nltk_data...\n",
            "[nltk_data]    |   Package snowball_data is already up-to-date!\n",
            "[nltk_data]    | Downloading package averaged_perceptron_tagger to\n",
            "[nltk_data]    |     /root/nltk_data...\n",
            "[nltk_data]    |   Package averaged_perceptron_tagger is already up-\n",
            "[nltk_data]    |       to-date!\n",
            "[nltk_data]    | \n",
            "[nltk_data]  Done downloading collection popular\n"
          ],
          "name": "stdout"
        },
        {
          "output_type": "execute_result",
          "data": {
            "text/plain": [
              "True"
            ]
          },
          "metadata": {
            "tags": []
          },
          "execution_count": 1
        }
      ]
    },
    {
      "cell_type": "code",
      "metadata": {
        "id": "Lq-smakL1oQC",
        "colab_type": "code",
        "colab": {}
      },
      "source": [
        "#get the Data used :\n",
        "Data = pd.read_csv('https://raw.githubusercontent.com/dD2405/Twitter_Sentiment_Analysis/master/train.csv')"
      ],
      "execution_count": 2,
      "outputs": []
    },
    {
      "cell_type": "code",
      "metadata": {
        "id": "t9lhLSPLKayu",
        "colab_type": "code",
        "colab": {
          "base_uri": "https://localhost:8080/",
          "height": 406
        },
        "outputId": "84e160c0-14ad-47ef-d963-5bc75fe7995e"
      },
      "source": [
        "Data"
      ],
      "execution_count": 3,
      "outputs": [
        {
          "output_type": "execute_result",
          "data": {
            "text/html": [
              "<div>\n",
              "<style scoped>\n",
              "    .dataframe tbody tr th:only-of-type {\n",
              "        vertical-align: middle;\n",
              "    }\n",
              "\n",
              "    .dataframe tbody tr th {\n",
              "        vertical-align: top;\n",
              "    }\n",
              "\n",
              "    .dataframe thead th {\n",
              "        text-align: right;\n",
              "    }\n",
              "</style>\n",
              "<table border=\"1\" class=\"dataframe\">\n",
              "  <thead>\n",
              "    <tr style=\"text-align: right;\">\n",
              "      <th></th>\n",
              "      <th>id</th>\n",
              "      <th>label</th>\n",
              "      <th>tweet</th>\n",
              "    </tr>\n",
              "  </thead>\n",
              "  <tbody>\n",
              "    <tr>\n",
              "      <th>0</th>\n",
              "      <td>1</td>\n",
              "      <td>0</td>\n",
              "      <td>@user when a father is dysfunctional and is s...</td>\n",
              "    </tr>\n",
              "    <tr>\n",
              "      <th>1</th>\n",
              "      <td>2</td>\n",
              "      <td>0</td>\n",
              "      <td>@user @user thanks for #lyft credit i can't us...</td>\n",
              "    </tr>\n",
              "    <tr>\n",
              "      <th>2</th>\n",
              "      <td>3</td>\n",
              "      <td>0</td>\n",
              "      <td>bihday your majesty</td>\n",
              "    </tr>\n",
              "    <tr>\n",
              "      <th>3</th>\n",
              "      <td>4</td>\n",
              "      <td>0</td>\n",
              "      <td>#model   i love u take with u all the time in ...</td>\n",
              "    </tr>\n",
              "    <tr>\n",
              "      <th>4</th>\n",
              "      <td>5</td>\n",
              "      <td>0</td>\n",
              "      <td>factsguide: society now    #motivation</td>\n",
              "    </tr>\n",
              "    <tr>\n",
              "      <th>...</th>\n",
              "      <td>...</td>\n",
              "      <td>...</td>\n",
              "      <td>...</td>\n",
              "    </tr>\n",
              "    <tr>\n",
              "      <th>31957</th>\n",
              "      <td>31958</td>\n",
              "      <td>0</td>\n",
              "      <td>ate @user isz that youuu?ðððððð...</td>\n",
              "    </tr>\n",
              "    <tr>\n",
              "      <th>31958</th>\n",
              "      <td>31959</td>\n",
              "      <td>0</td>\n",
              "      <td>to see nina turner on the airwaves trying to...</td>\n",
              "    </tr>\n",
              "    <tr>\n",
              "      <th>31959</th>\n",
              "      <td>31960</td>\n",
              "      <td>0</td>\n",
              "      <td>listening to sad songs on a monday morning otw...</td>\n",
              "    </tr>\n",
              "    <tr>\n",
              "      <th>31960</th>\n",
              "      <td>31961</td>\n",
              "      <td>1</td>\n",
              "      <td>@user #sikh #temple vandalised in in #calgary,...</td>\n",
              "    </tr>\n",
              "    <tr>\n",
              "      <th>31961</th>\n",
              "      <td>31962</td>\n",
              "      <td>0</td>\n",
              "      <td>thank you @user for you follow</td>\n",
              "    </tr>\n",
              "  </tbody>\n",
              "</table>\n",
              "<p>31962 rows × 3 columns</p>\n",
              "</div>"
            ],
            "text/plain": [
              "          id  label                                              tweet\n",
              "0          1      0   @user when a father is dysfunctional and is s...\n",
              "1          2      0  @user @user thanks for #lyft credit i can't us...\n",
              "2          3      0                                bihday your majesty\n",
              "3          4      0  #model   i love u take with u all the time in ...\n",
              "4          5      0             factsguide: society now    #motivation\n",
              "...      ...    ...                                                ...\n",
              "31957  31958      0  ate @user isz that youuu?ðððððð...\n",
              "31958  31959      0    to see nina turner on the airwaves trying to...\n",
              "31959  31960      0  listening to sad songs on a monday morning otw...\n",
              "31960  31961      1  @user #sikh #temple vandalised in in #calgary,...\n",
              "31961  31962      0                   thank you @user for you follow  \n",
              "\n",
              "[31962 rows x 3 columns]"
            ]
          },
          "metadata": {
            "tags": []
          },
          "execution_count": 3
        }
      ]
    },
    {
      "cell_type": "markdown",
      "metadata": {
        "id": "u5csQGHM62gx",
        "colab_type": "text"
      },
      "source": [
        "##1)\tData cleaning and preprocessing\n",
        "\n"
      ]
    },
    {
      "cell_type": "markdown",
      "metadata": {
        "id": "KlOfF86z7c07",
        "colab_type": "text"
      },
      "source": [
        "###Removing unnecessary columns or data\n",
        "\n",
        "*   [항목 추가](https://)\n",
        "*   항목 추가\n",
        "\n"
      ]
    },
    {
      "cell_type": "code",
      "metadata": {
        "id": "_9JSU8w2rgd3",
        "colab_type": "code",
        "colab": {}
      },
      "source": [
        "#remove id column\n",
        "Data = Data.drop(\"id\", axis=1)"
      ],
      "execution_count": 4,
      "outputs": []
    },
    {
      "cell_type": "code",
      "metadata": {
        "id": "ErUR39cz7DQ4",
        "colab_type": "code",
        "colab": {
          "base_uri": "https://localhost:8080/",
          "height": 406
        },
        "outputId": "8bad885f-603c-41e5-9680-9da11224bc92"
      },
      "source": [
        "Data"
      ],
      "execution_count": 5,
      "outputs": [
        {
          "output_type": "execute_result",
          "data": {
            "text/html": [
              "<div>\n",
              "<style scoped>\n",
              "    .dataframe tbody tr th:only-of-type {\n",
              "        vertical-align: middle;\n",
              "    }\n",
              "\n",
              "    .dataframe tbody tr th {\n",
              "        vertical-align: top;\n",
              "    }\n",
              "\n",
              "    .dataframe thead th {\n",
              "        text-align: right;\n",
              "    }\n",
              "</style>\n",
              "<table border=\"1\" class=\"dataframe\">\n",
              "  <thead>\n",
              "    <tr style=\"text-align: right;\">\n",
              "      <th></th>\n",
              "      <th>label</th>\n",
              "      <th>tweet</th>\n",
              "    </tr>\n",
              "  </thead>\n",
              "  <tbody>\n",
              "    <tr>\n",
              "      <th>0</th>\n",
              "      <td>0</td>\n",
              "      <td>@user when a father is dysfunctional and is s...</td>\n",
              "    </tr>\n",
              "    <tr>\n",
              "      <th>1</th>\n",
              "      <td>0</td>\n",
              "      <td>@user @user thanks for #lyft credit i can't us...</td>\n",
              "    </tr>\n",
              "    <tr>\n",
              "      <th>2</th>\n",
              "      <td>0</td>\n",
              "      <td>bihday your majesty</td>\n",
              "    </tr>\n",
              "    <tr>\n",
              "      <th>3</th>\n",
              "      <td>0</td>\n",
              "      <td>#model   i love u take with u all the time in ...</td>\n",
              "    </tr>\n",
              "    <tr>\n",
              "      <th>4</th>\n",
              "      <td>0</td>\n",
              "      <td>factsguide: society now    #motivation</td>\n",
              "    </tr>\n",
              "    <tr>\n",
              "      <th>...</th>\n",
              "      <td>...</td>\n",
              "      <td>...</td>\n",
              "    </tr>\n",
              "    <tr>\n",
              "      <th>31957</th>\n",
              "      <td>0</td>\n",
              "      <td>ate @user isz that youuu?ðððððð...</td>\n",
              "    </tr>\n",
              "    <tr>\n",
              "      <th>31958</th>\n",
              "      <td>0</td>\n",
              "      <td>to see nina turner on the airwaves trying to...</td>\n",
              "    </tr>\n",
              "    <tr>\n",
              "      <th>31959</th>\n",
              "      <td>0</td>\n",
              "      <td>listening to sad songs on a monday morning otw...</td>\n",
              "    </tr>\n",
              "    <tr>\n",
              "      <th>31960</th>\n",
              "      <td>1</td>\n",
              "      <td>@user #sikh #temple vandalised in in #calgary,...</td>\n",
              "    </tr>\n",
              "    <tr>\n",
              "      <th>31961</th>\n",
              "      <td>0</td>\n",
              "      <td>thank you @user for you follow</td>\n",
              "    </tr>\n",
              "  </tbody>\n",
              "</table>\n",
              "<p>31962 rows × 2 columns</p>\n",
              "</div>"
            ],
            "text/plain": [
              "       label                                              tweet\n",
              "0          0   @user when a father is dysfunctional and is s...\n",
              "1          0  @user @user thanks for #lyft credit i can't us...\n",
              "2          0                                bihday your majesty\n",
              "3          0  #model   i love u take with u all the time in ...\n",
              "4          0             factsguide: society now    #motivation\n",
              "...      ...                                                ...\n",
              "31957      0  ate @user isz that youuu?ðððððð...\n",
              "31958      0    to see nina turner on the airwaves trying to...\n",
              "31959      0  listening to sad songs on a monday morning otw...\n",
              "31960      1  @user #sikh #temple vandalised in in #calgary,...\n",
              "31961      0                   thank you @user for you follow  \n",
              "\n",
              "[31962 rows x 2 columns]"
            ]
          },
          "metadata": {
            "tags": []
          },
          "execution_count": 5
        }
      ]
    },
    {
      "cell_type": "markdown",
      "metadata": {
        "id": "0PbVDfXJ7wsZ",
        "colab_type": "text"
      },
      "source": [
        "###Removing Twitter Handles( @user )"
      ]
    },
    {
      "cell_type": "code",
      "metadata": {
        "id": "i3NYJbLERMfk",
        "colab_type": "code",
        "colab": {}
      },
      "source": [
        "#library for data cleaning\n",
        "import re\n",
        "import numpy as np\n",
        "\n",
        "\n",
        "\n",
        "def remove_handle(text, pattern):\n",
        "  # finds the pattern @ and put it in a list\n",
        "  words = re.findall(pattern, text)\n",
        "\n",
        "  for word in words:\n",
        "    #remove @ and replace it with blank\n",
        "    text = re.sub(word,\"\",text)\n",
        "\n",
        "  return text\n",
        "\n",
        "\n",
        "#make a new column named cleaned tweet\n",
        "Data[\"Cleaned_Tweets\"] = np.vectorize(remove_handle)(Data['tweet'], \"@[\\w]*\")\n",
        "\n",
        "#Remove tweet column\n",
        "Data = Data.drop(\"tweet\", axis=1)"
      ],
      "execution_count": 6,
      "outputs": []
    },
    {
      "cell_type": "code",
      "metadata": {
        "id": "kILXj9vRhjaT",
        "colab_type": "code",
        "colab": {
          "base_uri": "https://localhost:8080/",
          "height": 406
        },
        "outputId": "82628375-0b09-48a3-8802-5170ad13d34a"
      },
      "source": [
        "Data"
      ],
      "execution_count": 7,
      "outputs": [
        {
          "output_type": "execute_result",
          "data": {
            "text/html": [
              "<div>\n",
              "<style scoped>\n",
              "    .dataframe tbody tr th:only-of-type {\n",
              "        vertical-align: middle;\n",
              "    }\n",
              "\n",
              "    .dataframe tbody tr th {\n",
              "        vertical-align: top;\n",
              "    }\n",
              "\n",
              "    .dataframe thead th {\n",
              "        text-align: right;\n",
              "    }\n",
              "</style>\n",
              "<table border=\"1\" class=\"dataframe\">\n",
              "  <thead>\n",
              "    <tr style=\"text-align: right;\">\n",
              "      <th></th>\n",
              "      <th>label</th>\n",
              "      <th>Cleaned_Tweets</th>\n",
              "    </tr>\n",
              "  </thead>\n",
              "  <tbody>\n",
              "    <tr>\n",
              "      <th>0</th>\n",
              "      <td>0</td>\n",
              "      <td>when a father is dysfunctional and is so sel...</td>\n",
              "    </tr>\n",
              "    <tr>\n",
              "      <th>1</th>\n",
              "      <td>0</td>\n",
              "      <td>thanks for #lyft credit i can't use cause th...</td>\n",
              "    </tr>\n",
              "    <tr>\n",
              "      <th>2</th>\n",
              "      <td>0</td>\n",
              "      <td>bihday your majesty</td>\n",
              "    </tr>\n",
              "    <tr>\n",
              "      <th>3</th>\n",
              "      <td>0</td>\n",
              "      <td>#model   i love u take with u all the time in ...</td>\n",
              "    </tr>\n",
              "    <tr>\n",
              "      <th>4</th>\n",
              "      <td>0</td>\n",
              "      <td>factsguide: society now    #motivation</td>\n",
              "    </tr>\n",
              "    <tr>\n",
              "      <th>...</th>\n",
              "      <td>...</td>\n",
              "      <td>...</td>\n",
              "    </tr>\n",
              "    <tr>\n",
              "      <th>31957</th>\n",
              "      <td>0</td>\n",
              "      <td>ate  isz that youuu?ððððððð...</td>\n",
              "    </tr>\n",
              "    <tr>\n",
              "      <th>31958</th>\n",
              "      <td>0</td>\n",
              "      <td>to see nina turner on the airwaves trying to...</td>\n",
              "    </tr>\n",
              "    <tr>\n",
              "      <th>31959</th>\n",
              "      <td>0</td>\n",
              "      <td>listening to sad songs on a monday morning otw...</td>\n",
              "    </tr>\n",
              "    <tr>\n",
              "      <th>31960</th>\n",
              "      <td>1</td>\n",
              "      <td>#sikh #temple vandalised in in #calgary, #wso...</td>\n",
              "    </tr>\n",
              "    <tr>\n",
              "      <th>31961</th>\n",
              "      <td>0</td>\n",
              "      <td>thank you  for you follow</td>\n",
              "    </tr>\n",
              "  </tbody>\n",
              "</table>\n",
              "<p>31962 rows × 2 columns</p>\n",
              "</div>"
            ],
            "text/plain": [
              "       label                                     Cleaned_Tweets\n",
              "0          0    when a father is dysfunctional and is so sel...\n",
              "1          0    thanks for #lyft credit i can't use cause th...\n",
              "2          0                                bihday your majesty\n",
              "3          0  #model   i love u take with u all the time in ...\n",
              "4          0             factsguide: society now    #motivation\n",
              "...      ...                                                ...\n",
              "31957      0  ate  isz that youuu?ððððððð...\n",
              "31958      0    to see nina turner on the airwaves trying to...\n",
              "31959      0  listening to sad songs on a monday morning otw...\n",
              "31960      1   #sikh #temple vandalised in in #calgary, #wso...\n",
              "31961      0                        thank you  for you follow  \n",
              "\n",
              "[31962 rows x 2 columns]"
            ]
          },
          "metadata": {
            "tags": []
          },
          "execution_count": 7
        }
      ]
    },
    {
      "cell_type": "markdown",
      "metadata": {
        "id": "5tHmCbvu8lyo",
        "colab_type": "text"
      },
      "source": [
        "###Removing punctuation, numbers, special characters"
      ]
    },
    {
      "cell_type": "code",
      "metadata": {
        "id": "iIpYtVv1ngFQ",
        "colab_type": "code",
        "colab": {}
      },
      "source": [
        "#replace everything except characters. Series.str can be used to access the values of the series\n",
        "Data[\"Cleaned_Tweets\"] = Data[\"Cleaned_Tweets\"].str.replace(\"[^a-zA-Z]\", \" \")"
      ],
      "execution_count": 8,
      "outputs": []
    },
    {
      "cell_type": "code",
      "metadata": {
        "id": "pAjFXQa_Q3Tt",
        "colab_type": "code",
        "colab": {
          "base_uri": "https://localhost:8080/",
          "height": 406
        },
        "outputId": "0299d046-1d87-4fd7-fc63-f1474196fd41"
      },
      "source": [
        "Data"
      ],
      "execution_count": 9,
      "outputs": [
        {
          "output_type": "execute_result",
          "data": {
            "text/html": [
              "<div>\n",
              "<style scoped>\n",
              "    .dataframe tbody tr th:only-of-type {\n",
              "        vertical-align: middle;\n",
              "    }\n",
              "\n",
              "    .dataframe tbody tr th {\n",
              "        vertical-align: top;\n",
              "    }\n",
              "\n",
              "    .dataframe thead th {\n",
              "        text-align: right;\n",
              "    }\n",
              "</style>\n",
              "<table border=\"1\" class=\"dataframe\">\n",
              "  <thead>\n",
              "    <tr style=\"text-align: right;\">\n",
              "      <th></th>\n",
              "      <th>label</th>\n",
              "      <th>Cleaned_Tweets</th>\n",
              "    </tr>\n",
              "  </thead>\n",
              "  <tbody>\n",
              "    <tr>\n",
              "      <th>0</th>\n",
              "      <td>0</td>\n",
              "      <td>when a father is dysfunctional and is so sel...</td>\n",
              "    </tr>\n",
              "    <tr>\n",
              "      <th>1</th>\n",
              "      <td>0</td>\n",
              "      <td>thanks for  lyft credit i can t use cause th...</td>\n",
              "    </tr>\n",
              "    <tr>\n",
              "      <th>2</th>\n",
              "      <td>0</td>\n",
              "      <td>bihday your majesty</td>\n",
              "    </tr>\n",
              "    <tr>\n",
              "      <th>3</th>\n",
              "      <td>0</td>\n",
              "      <td>model   i love u take with u all the time in ...</td>\n",
              "    </tr>\n",
              "    <tr>\n",
              "      <th>4</th>\n",
              "      <td>0</td>\n",
              "      <td>factsguide  society now     motivation</td>\n",
              "    </tr>\n",
              "    <tr>\n",
              "      <th>...</th>\n",
              "      <td>...</td>\n",
              "      <td>...</td>\n",
              "    </tr>\n",
              "    <tr>\n",
              "      <th>31957</th>\n",
              "      <td>0</td>\n",
              "      <td>ate  isz that youuu                           ...</td>\n",
              "    </tr>\n",
              "    <tr>\n",
              "      <th>31958</th>\n",
              "      <td>0</td>\n",
              "      <td>to see nina turner on the airwaves trying to...</td>\n",
              "    </tr>\n",
              "    <tr>\n",
              "      <th>31959</th>\n",
              "      <td>0</td>\n",
              "      <td>listening to sad songs on a monday morning otw...</td>\n",
              "    </tr>\n",
              "    <tr>\n",
              "      <th>31960</th>\n",
              "      <td>1</td>\n",
              "      <td>sikh  temple vandalised in in  calgary   wso...</td>\n",
              "    </tr>\n",
              "    <tr>\n",
              "      <th>31961</th>\n",
              "      <td>0</td>\n",
              "      <td>thank you  for you follow</td>\n",
              "    </tr>\n",
              "  </tbody>\n",
              "</table>\n",
              "<p>31962 rows × 2 columns</p>\n",
              "</div>"
            ],
            "text/plain": [
              "       label                                     Cleaned_Tweets\n",
              "0          0    when a father is dysfunctional and is so sel...\n",
              "1          0    thanks for  lyft credit i can t use cause th...\n",
              "2          0                                bihday your majesty\n",
              "3          0   model   i love u take with u all the time in ...\n",
              "4          0             factsguide  society now     motivation\n",
              "...      ...                                                ...\n",
              "31957      0  ate  isz that youuu                           ...\n",
              "31958      0    to see nina turner on the airwaves trying to...\n",
              "31959      0  listening to sad songs on a monday morning otw...\n",
              "31960      1    sikh  temple vandalised in in  calgary   wso...\n",
              "31961      0                        thank you  for you follow  \n",
              "\n",
              "[31962 rows x 2 columns]"
            ]
          },
          "metadata": {
            "tags": []
          },
          "execution_count": 9
        }
      ]
    },
    {
      "cell_type": "code",
      "metadata": {
        "id": "olKecXkvBEbQ",
        "colab_type": "code",
        "colab": {}
      },
      "source": [
        ""
      ],
      "execution_count": 9,
      "outputs": []
    },
    {
      "cell_type": "markdown",
      "metadata": {
        "id": "XpnDAmu7rOG8",
        "colab_type": "text"
      },
      "source": [
        "#Visualization of postag(Using yellowbrick)"
      ]
    },
    {
      "cell_type": "code",
      "metadata": {
        "id": "e1wiDwhREnoc",
        "colab_type": "code",
        "colab": {}
      },
      "source": [
        ""
      ],
      "execution_count": 9,
      "outputs": []
    },
    {
      "cell_type": "code",
      "metadata": {
        "id": "0X6DvTyG-TWD",
        "colab_type": "code",
        "colab": {}
      },
      "source": [
        "# list for contain postagged words\n",
        "tagged_words = []\n",
        "\n",
        "#Pos tagging each word\n",
        "for words in Data[\"Cleaned_Tweets\"]:\n",
        "  tagged_words.append(nltk.pos_tag(words)) \n",
        "\n",
        "#Change the form to use in yellowbrick\n",
        "tagged_words = [tagged_words]"
      ],
      "execution_count": 10,
      "outputs": []
    },
    {
      "cell_type": "code",
      "metadata": {
        "id": "6JFZV3-FprDt",
        "colab_type": "code",
        "colab": {
          "base_uri": "https://localhost:8080/",
          "height": 232
        },
        "outputId": "b30e3aba-8a8a-4679-aeab-a7e8553cba33"
      },
      "source": [
        "pip install -U yellowbrick"
      ],
      "execution_count": 11,
      "outputs": [
        {
          "output_type": "stream",
          "text": [
            "Requirement already up-to-date: yellowbrick in /usr/local/lib/python3.6/dist-packages (1.1)\n",
            "Requirement already satisfied, skipping upgrade: numpy>=1.13.0 in /usr/local/lib/python3.6/dist-packages (from yellowbrick) (1.18.5)\n",
            "Requirement already satisfied, skipping upgrade: scipy>=1.0.0 in /usr/local/lib/python3.6/dist-packages (from yellowbrick) (1.4.1)\n",
            "Requirement already satisfied, skipping upgrade: matplotlib!=3.0.0,>=2.0.2 in /usr/local/lib/python3.6/dist-packages (from yellowbrick) (3.2.2)\n",
            "Requirement already satisfied, skipping upgrade: cycler>=0.10.0 in /usr/local/lib/python3.6/dist-packages (from yellowbrick) (0.10.0)\n",
            "Requirement already satisfied, skipping upgrade: scikit-learn>=0.20 in /usr/local/lib/python3.6/dist-packages (from yellowbrick) (0.22.2.post1)\n",
            "Requirement already satisfied, skipping upgrade: python-dateutil>=2.1 in /usr/local/lib/python3.6/dist-packages (from matplotlib!=3.0.0,>=2.0.2->yellowbrick) (2.8.1)\n",
            "Requirement already satisfied, skipping upgrade: kiwisolver>=1.0.1 in /usr/local/lib/python3.6/dist-packages (from matplotlib!=3.0.0,>=2.0.2->yellowbrick) (1.2.0)\n",
            "Requirement already satisfied, skipping upgrade: pyparsing!=2.0.4,!=2.1.2,!=2.1.6,>=2.0.1 in /usr/local/lib/python3.6/dist-packages (from matplotlib!=3.0.0,>=2.0.2->yellowbrick) (2.4.7)\n",
            "Requirement already satisfied, skipping upgrade: six in /usr/local/lib/python3.6/dist-packages (from cycler>=0.10.0->yellowbrick) (1.15.0)\n",
            "Requirement already satisfied, skipping upgrade: joblib>=0.11 in /usr/local/lib/python3.6/dist-packages (from scikit-learn>=0.20->yellowbrick) (0.16.0)\n"
          ],
          "name": "stdout"
        }
      ]
    },
    {
      "cell_type": "code",
      "metadata": {
        "id": "tKfY-Rvgnf6P",
        "colab_type": "code",
        "colab": {
          "base_uri": "https://localhost:8080/",
          "height": 72
        },
        "outputId": "7a3f5ce8-38ad-42a8-f9a2-e55e31817a12"
      },
      "source": [
        "#library to visualizae postag\n",
        "from yellowbrick.text import PosTagVisualizer\n"
      ],
      "execution_count": 12,
      "outputs": [
        {
          "output_type": "stream",
          "text": [
            "/usr/local/lib/python3.6/dist-packages/sklearn/utils/deprecation.py:144: FutureWarning: The sklearn.metrics.classification module is  deprecated in version 0.22 and will be removed in version 0.24. The corresponding classes / functions should instead be imported from sklearn.metrics. Anything that cannot be imported from sklearn.metrics is now part of the private API.\n",
            "  warnings.warn(message, FutureWarning)\n"
          ],
          "name": "stderr"
        }
      ]
    },
    {
      "cell_type": "code",
      "metadata": {
        "id": "fgzzwO76nfwP",
        "colab_type": "code",
        "colab": {
          "base_uri": "https://localhost:8080/",
          "height": 436
        },
        "outputId": "b82e07fc-4afb-4499-b9a4-855c8429a048"
      },
      "source": [
        "# Create the visualizer, fit, score, and show it\n",
        "viz = PosTagVisualizer()\n",
        "viz.fit(tagged_words)\n",
        "viz.show()"
      ],
      "execution_count": 13,
      "outputs": [
        {
          "output_type": "display_data",
          "data": {
            "image/png": "[encoded data removed]",
            "text/plain": [
              "<Figure size 576x396 with 1 Axes>"
            ]
          },
          "metadata": {
            "tags": []
          }
        },
        {
          "output_type": "execute_result",
          "data": {
            "text/plain": [
              "<matplotlib.axes._subplots.AxesSubplot at 0x7fc3829ee5c0>"
            ]
          },
          "metadata": {
            "tags": []
          },
          "execution_count": 13
        }
      ]
    },
    {
      "cell_type": "code",
      "metadata": {
        "id": "dErqpRoELIWw",
        "colab_type": "code",
        "colab": {}
      },
      "source": [
        ""
      ],
      "execution_count": 13,
      "outputs": []
    },
    {
      "cell_type": "markdown",
      "metadata": {
        "id": "f72xKAxI9lIN",
        "colab_type": "text"
      },
      "source": [
        "\n",
        "\n",
        "\n",
        "###Removing stop words"
      ]
    },
    {
      "cell_type": "code",
      "metadata": {
        "id": "pDXASyQTQ5uN",
        "colab_type": "code",
        "colab": {}
      },
      "source": [
        "#import stopword from nltk\n",
        "from nltk.corpus import stopwords\n"
      ],
      "execution_count": 14,
      "outputs": []
    },
    {
      "cell_type": "code",
      "metadata": {
        "id": "ukSe9QuPSX-h",
        "colab_type": "code",
        "colab": {
          "base_uri": "https://localhost:8080/",
          "height": 54
        },
        "outputId": "edcbfbbd-9e50-4432-b1d7-8cc1cf7646ab"
      },
      "source": [
        "\n",
        "stopwords = stopwords.words(\"english\")\n",
        "print(stopwords)"
      ],
      "execution_count": 15,
      "outputs": [
        {
          "output_type": "stream",
          "text": [
            "['i', 'me', 'my', 'myself', 'we', 'our', 'ours', 'ourselves', 'you', \"you're\", \"you've\", \"you'll\", \"you'd\", 'your', 'yours', 'yourself', 'yourselves', 'he', 'him', 'his', 'himself', 'she', \"she's\", 'her', 'hers', 'herself', 'it', \"it's\", 'its', 'itself', 'they', 'them', 'their', 'theirs', 'themselves', 'what', 'which', 'who', 'whom', 'this', 'that', \"that'll\", 'these', 'those', 'am', 'is', 'are', 'was', 'were', 'be', 'been', 'being', 'have', 'has', 'had', 'having', 'do', 'does', 'did', 'doing', 'a', 'an', 'the', 'and', 'but', 'if', 'or', 'because', 'as', 'until', 'while', 'of', 'at', 'by', 'for', 'with', 'about', 'against', 'between', 'into', 'through', 'during', 'before', 'after', 'above', 'below', 'to', 'from', 'up', 'down', 'in', 'out', 'on', 'off', 'over', 'under', 'again', 'further', 'then', 'once', 'here', 'there', 'when', 'where', 'why', 'how', 'all', 'any', 'both', 'each', 'few', 'more', 'most', 'other', 'some', 'such', 'no', 'nor', 'not', 'only', 'own', 'same', 'so', 'than', 'too', 'very', 's', 't', 'can', 'will', 'just', 'don', \"don't\", 'should', \"should've\", 'now', 'd', 'll', 'm', 'o', 're', 've', 'y', 'ain', 'aren', \"aren't\", 'couldn', \"couldn't\", 'didn', \"didn't\", 'doesn', \"doesn't\", 'hadn', \"hadn't\", 'hasn', \"hasn't\", 'haven', \"haven't\", 'isn', \"isn't\", 'ma', 'mightn', \"mightn't\", 'mustn', \"mustn't\", 'needn', \"needn't\", 'shan', \"shan't\", 'shouldn', \"shouldn't\", 'wasn', \"wasn't\", 'weren', \"weren't\", 'won', \"won't\", 'wouldn', \"wouldn't\"]\n"
          ],
          "name": "stdout"
        }
      ]
    },
    {
      "cell_type": "code",
      "metadata": {
        "id": "7TdwjQ5fSgdv",
        "colab_type": "code",
        "colab": {}
      },
      "source": [
        "#Series.apply Invoke function on values of Series and remove words in stopword\n",
        "Data[\"Cleaned_Tweets\"] = Data[\"Cleaned_Tweets\"].apply(lambda x: \" \".join([word for word in x.split() if word not in stopwords]))"
      ],
      "execution_count": 16,
      "outputs": []
    },
    {
      "cell_type": "code",
      "metadata": {
        "id": "wzhypTW5UtZS",
        "colab_type": "code",
        "colab": {
          "base_uri": "https://localhost:8080/",
          "height": 406
        },
        "outputId": "2bc32738-9f5c-4466-a72e-24d9249ccd83"
      },
      "source": [
        "Data\n"
      ],
      "execution_count": 17,
      "outputs": [
        {
          "output_type": "execute_result",
          "data": {
            "text/html": [
              "<div>\n",
              "<style scoped>\n",
              "    .dataframe tbody tr th:only-of-type {\n",
              "        vertical-align: middle;\n",
              "    }\n",
              "\n",
              "    .dataframe tbody tr th {\n",
              "        vertical-align: top;\n",
              "    }\n",
              "\n",
              "    .dataframe thead th {\n",
              "        text-align: right;\n",
              "    }\n",
              "</style>\n",
              "<table border=\"1\" class=\"dataframe\">\n",
              "  <thead>\n",
              "    <tr style=\"text-align: right;\">\n",
              "      <th></th>\n",
              "      <th>label</th>\n",
              "      <th>Cleaned_Tweets</th>\n",
              "    </tr>\n",
              "  </thead>\n",
              "  <tbody>\n",
              "    <tr>\n",
              "      <th>0</th>\n",
              "      <td>0</td>\n",
              "      <td>father dysfunctional selfish drags kids dysfun...</td>\n",
              "    </tr>\n",
              "    <tr>\n",
              "      <th>1</th>\n",
              "      <td>0</td>\n",
              "      <td>thanks lyft credit use cause offer wheelchair ...</td>\n",
              "    </tr>\n",
              "    <tr>\n",
              "      <th>2</th>\n",
              "      <td>0</td>\n",
              "      <td>bihday majesty</td>\n",
              "    </tr>\n",
              "    <tr>\n",
              "      <th>3</th>\n",
              "      <td>0</td>\n",
              "      <td>model love u take u time ur</td>\n",
              "    </tr>\n",
              "    <tr>\n",
              "      <th>4</th>\n",
              "      <td>0</td>\n",
              "      <td>factsguide society motivation</td>\n",
              "    </tr>\n",
              "    <tr>\n",
              "      <th>...</th>\n",
              "      <td>...</td>\n",
              "      <td>...</td>\n",
              "    </tr>\n",
              "    <tr>\n",
              "      <th>31957</th>\n",
              "      <td>0</td>\n",
              "      <td>ate isz youuu</td>\n",
              "    </tr>\n",
              "    <tr>\n",
              "      <th>31958</th>\n",
              "      <td>0</td>\n",
              "      <td>see nina turner airwaves trying wrap mantle ge...</td>\n",
              "    </tr>\n",
              "    <tr>\n",
              "      <th>31959</th>\n",
              "      <td>0</td>\n",
              "      <td>listening sad songs monday morning otw work sad</td>\n",
              "    </tr>\n",
              "    <tr>\n",
              "      <th>31960</th>\n",
              "      <td>1</td>\n",
              "      <td>sikh temple vandalised calgary wso condemns act</td>\n",
              "    </tr>\n",
              "    <tr>\n",
              "      <th>31961</th>\n",
              "      <td>0</td>\n",
              "      <td>thank follow</td>\n",
              "    </tr>\n",
              "  </tbody>\n",
              "</table>\n",
              "<p>31962 rows × 2 columns</p>\n",
              "</div>"
            ],
            "text/plain": [
              "       label                                     Cleaned_Tweets\n",
              "0          0  father dysfunctional selfish drags kids dysfun...\n",
              "1          0  thanks lyft credit use cause offer wheelchair ...\n",
              "2          0                                     bihday majesty\n",
              "3          0                        model love u take u time ur\n",
              "4          0                      factsguide society motivation\n",
              "...      ...                                                ...\n",
              "31957      0                                      ate isz youuu\n",
              "31958      0  see nina turner airwaves trying wrap mantle ge...\n",
              "31959      0    listening sad songs monday morning otw work sad\n",
              "31960      1    sikh temple vandalised calgary wso condemns act\n",
              "31961      0                                       thank follow\n",
              "\n",
              "[31962 rows x 2 columns]"
            ]
          },
          "metadata": {
            "tags": []
          },
          "execution_count": 17
        }
      ]
    },
    {
      "cell_type": "code",
      "metadata": {
        "id": "X1YVUdefejwI",
        "colab_type": "code",
        "colab": {}
      },
      "source": [
        ""
      ],
      "execution_count": 17,
      "outputs": []
    },
    {
      "cell_type": "markdown",
      "metadata": {
        "id": "ptqIGqOsevhH",
        "colab_type": "text"
      },
      "source": [
        "###Tokenization, and Stemming"
      ]
    },
    {
      "cell_type": "code",
      "metadata": {
        "id": "Nvza1MNsaSqg",
        "colab_type": "code",
        "colab": {}
      },
      "source": [
        ""
      ],
      "execution_count": 17,
      "outputs": []
    },
    {
      "cell_type": "code",
      "metadata": {
        "id": "IaJRpqsZelHT",
        "colab_type": "code",
        "colab": {}
      },
      "source": [
        "#Tokenize the text by word\n",
        "Data[\"Cleaned_Tweets\"] = Data[\"Cleaned_Tweets\"].apply(lambda x: word_tokenize(x))"
      ],
      "execution_count": 18,
      "outputs": []
    },
    {
      "cell_type": "code",
      "metadata": {
        "id": "Dh_GMcIielts",
        "colab_type": "code",
        "colab": {
          "base_uri": "https://localhost:8080/",
          "height": 406
        },
        "outputId": "43b4602a-8fc1-4a84-c1c6-a9915e7fd007"
      },
      "source": [
        "Data"
      ],
      "execution_count": 19,
      "outputs": [
        {
          "output_type": "execute_result",
          "data": {
            "text/html": [
              "<div>\n",
              "<style scoped>\n",
              "    .dataframe tbody tr th:only-of-type {\n",
              "        vertical-align: middle;\n",
              "    }\n",
              "\n",
              "    .dataframe tbody tr th {\n",
              "        vertical-align: top;\n",
              "    }\n",
              "\n",
              "    .dataframe thead th {\n",
              "        text-align: right;\n",
              "    }\n",
              "</style>\n",
              "<table border=\"1\" class=\"dataframe\">\n",
              "  <thead>\n",
              "    <tr style=\"text-align: right;\">\n",
              "      <th></th>\n",
              "      <th>label</th>\n",
              "      <th>Cleaned_Tweets</th>\n",
              "    </tr>\n",
              "  </thead>\n",
              "  <tbody>\n",
              "    <tr>\n",
              "      <th>0</th>\n",
              "      <td>0</td>\n",
              "      <td>[father, dysfunctional, selfish, drags, kids, ...</td>\n",
              "    </tr>\n",
              "    <tr>\n",
              "      <th>1</th>\n",
              "      <td>0</td>\n",
              "      <td>[thanks, lyft, credit, use, cause, offer, whee...</td>\n",
              "    </tr>\n",
              "    <tr>\n",
              "      <th>2</th>\n",
              "      <td>0</td>\n",
              "      <td>[bihday, majesty]</td>\n",
              "    </tr>\n",
              "    <tr>\n",
              "      <th>3</th>\n",
              "      <td>0</td>\n",
              "      <td>[model, love, u, take, u, time, ur]</td>\n",
              "    </tr>\n",
              "    <tr>\n",
              "      <th>4</th>\n",
              "      <td>0</td>\n",
              "      <td>[factsguide, society, motivation]</td>\n",
              "    </tr>\n",
              "    <tr>\n",
              "      <th>...</th>\n",
              "      <td>...</td>\n",
              "      <td>...</td>\n",
              "    </tr>\n",
              "    <tr>\n",
              "      <th>31957</th>\n",
              "      <td>0</td>\n",
              "      <td>[ate, isz, youuu]</td>\n",
              "    </tr>\n",
              "    <tr>\n",
              "      <th>31958</th>\n",
              "      <td>0</td>\n",
              "      <td>[see, nina, turner, airwaves, trying, wrap, ma...</td>\n",
              "    </tr>\n",
              "    <tr>\n",
              "      <th>31959</th>\n",
              "      <td>0</td>\n",
              "      <td>[listening, sad, songs, monday, morning, otw, ...</td>\n",
              "    </tr>\n",
              "    <tr>\n",
              "      <th>31960</th>\n",
              "      <td>1</td>\n",
              "      <td>[sikh, temple, vandalised, calgary, wso, conde...</td>\n",
              "    </tr>\n",
              "    <tr>\n",
              "      <th>31961</th>\n",
              "      <td>0</td>\n",
              "      <td>[thank, follow]</td>\n",
              "    </tr>\n",
              "  </tbody>\n",
              "</table>\n",
              "<p>31962 rows × 2 columns</p>\n",
              "</div>"
            ],
            "text/plain": [
              "       label                                     Cleaned_Tweets\n",
              "0          0  [father, dysfunctional, selfish, drags, kids, ...\n",
              "1          0  [thanks, lyft, credit, use, cause, offer, whee...\n",
              "2          0                                  [bihday, majesty]\n",
              "3          0                [model, love, u, take, u, time, ur]\n",
              "4          0                  [factsguide, society, motivation]\n",
              "...      ...                                                ...\n",
              "31957      0                                  [ate, isz, youuu]\n",
              "31958      0  [see, nina, turner, airwaves, trying, wrap, ma...\n",
              "31959      0  [listening, sad, songs, monday, morning, otw, ...\n",
              "31960      1  [sikh, temple, vandalised, calgary, wso, conde...\n",
              "31961      0                                    [thank, follow]\n",
              "\n",
              "[31962 rows x 2 columns]"
            ]
          },
          "metadata": {
            "tags": []
          },
          "execution_count": 19
        }
      ]
    },
    {
      "cell_type": "code",
      "metadata": {
        "id": "J_vUvxpV6SNV",
        "colab_type": "code",
        "colab": {}
      },
      "source": [
        "\n",
        "#Import stemming library\n",
        "from nltk.stem import PorterStemmer\n",
        "porter = PorterStemmer()\n",
        "#Stemming for each Series values\n",
        "Data[\"Cleaned_Tweets\"] = Data[\"Cleaned_Tweets\"].apply(lambda x: [porter.stem(word) for word in x])\n",
        "\n"
      ],
      "execution_count": 20,
      "outputs": []
    },
    {
      "cell_type": "code",
      "metadata": {
        "id": "7m1IKE7yelYY",
        "colab_type": "code",
        "colab": {
          "base_uri": "https://localhost:8080/",
          "height": 406
        },
        "outputId": "bf54ac38-b57f-4f26-c738-d40e8937d639"
      },
      "source": [
        "Data"
      ],
      "execution_count": 21,
      "outputs": [
        {
          "output_type": "execute_result",
          "data": {
            "text/html": [
              "<div>\n",
              "<style scoped>\n",
              "    .dataframe tbody tr th:only-of-type {\n",
              "        vertical-align: middle;\n",
              "    }\n",
              "\n",
              "    .dataframe tbody tr th {\n",
              "        vertical-align: top;\n",
              "    }\n",
              "\n",
              "    .dataframe thead th {\n",
              "        text-align: right;\n",
              "    }\n",
              "</style>\n",
              "<table border=\"1\" class=\"dataframe\">\n",
              "  <thead>\n",
              "    <tr style=\"text-align: right;\">\n",
              "      <th></th>\n",
              "      <th>label</th>\n",
              "      <th>Cleaned_Tweets</th>\n",
              "    </tr>\n",
              "  </thead>\n",
              "  <tbody>\n",
              "    <tr>\n",
              "      <th>0</th>\n",
              "      <td>0</td>\n",
              "      <td>[father, dysfunct, selfish, drag, kid, dysfunc...</td>\n",
              "    </tr>\n",
              "    <tr>\n",
              "      <th>1</th>\n",
              "      <td>0</td>\n",
              "      <td>[thank, lyft, credit, use, caus, offer, wheelc...</td>\n",
              "    </tr>\n",
              "    <tr>\n",
              "      <th>2</th>\n",
              "      <td>0</td>\n",
              "      <td>[bihday, majesti]</td>\n",
              "    </tr>\n",
              "    <tr>\n",
              "      <th>3</th>\n",
              "      <td>0</td>\n",
              "      <td>[model, love, u, take, u, time, ur]</td>\n",
              "    </tr>\n",
              "    <tr>\n",
              "      <th>4</th>\n",
              "      <td>0</td>\n",
              "      <td>[factsguid, societi, motiv]</td>\n",
              "    </tr>\n",
              "    <tr>\n",
              "      <th>...</th>\n",
              "      <td>...</td>\n",
              "      <td>...</td>\n",
              "    </tr>\n",
              "    <tr>\n",
              "      <th>31957</th>\n",
              "      <td>0</td>\n",
              "      <td>[ate, isz, youuu]</td>\n",
              "    </tr>\n",
              "    <tr>\n",
              "      <th>31958</th>\n",
              "      <td>0</td>\n",
              "      <td>[see, nina, turner, airwav, tri, wrap, mantl, ...</td>\n",
              "    </tr>\n",
              "    <tr>\n",
              "      <th>31959</th>\n",
              "      <td>0</td>\n",
              "      <td>[listen, sad, song, monday, morn, otw, work, sad]</td>\n",
              "    </tr>\n",
              "    <tr>\n",
              "      <th>31960</th>\n",
              "      <td>1</td>\n",
              "      <td>[sikh, templ, vandalis, calgari, wso, condemn,...</td>\n",
              "    </tr>\n",
              "    <tr>\n",
              "      <th>31961</th>\n",
              "      <td>0</td>\n",
              "      <td>[thank, follow]</td>\n",
              "    </tr>\n",
              "  </tbody>\n",
              "</table>\n",
              "<p>31962 rows × 2 columns</p>\n",
              "</div>"
            ],
            "text/plain": [
              "       label                                     Cleaned_Tweets\n",
              "0          0  [father, dysfunct, selfish, drag, kid, dysfunc...\n",
              "1          0  [thank, lyft, credit, use, caus, offer, wheelc...\n",
              "2          0                                  [bihday, majesti]\n",
              "3          0                [model, love, u, take, u, time, ur]\n",
              "4          0                        [factsguid, societi, motiv]\n",
              "...      ...                                                ...\n",
              "31957      0                                  [ate, isz, youuu]\n",
              "31958      0  [see, nina, turner, airwav, tri, wrap, mantl, ...\n",
              "31959      0  [listen, sad, song, monday, morn, otw, work, sad]\n",
              "31960      1  [sikh, templ, vandalis, calgari, wso, condemn,...\n",
              "31961      0                                    [thank, follow]\n",
              "\n",
              "[31962 rows x 2 columns]"
            ]
          },
          "metadata": {
            "tags": []
          },
          "execution_count": 21
        }
      ]
    },
    {
      "cell_type": "code",
      "metadata": {
        "id": "lBzivCWedbFy",
        "colab_type": "code",
        "colab": {}
      },
      "source": [
        "Data[\"Cleaned_Tweets\"] = Data[\"Cleaned_Tweets\"].apply(lambda x: \" \".join(x))"
      ],
      "execution_count": 22,
      "outputs": []
    },
    {
      "cell_type": "code",
      "metadata": {
        "id": "RRMwiBQNdcya",
        "colab_type": "code",
        "colab": {
          "base_uri": "https://localhost:8080/",
          "height": 406
        },
        "outputId": "49152c2d-3ed3-46f3-b981-c90a60e98e85"
      },
      "source": [
        "Data"
      ],
      "execution_count": 23,
      "outputs": [
        {
          "output_type": "execute_result",
          "data": {
            "text/html": [
              "<div>\n",
              "<style scoped>\n",
              "    .dataframe tbody tr th:only-of-type {\n",
              "        vertical-align: middle;\n",
              "    }\n",
              "\n",
              "    .dataframe tbody tr th {\n",
              "        vertical-align: top;\n",
              "    }\n",
              "\n",
              "    .dataframe thead th {\n",
              "        text-align: right;\n",
              "    }\n",
              "</style>\n",
              "<table border=\"1\" class=\"dataframe\">\n",
              "  <thead>\n",
              "    <tr style=\"text-align: right;\">\n",
              "      <th></th>\n",
              "      <th>label</th>\n",
              "      <th>Cleaned_Tweets</th>\n",
              "    </tr>\n",
              "  </thead>\n",
              "  <tbody>\n",
              "    <tr>\n",
              "      <th>0</th>\n",
              "      <td>0</td>\n",
              "      <td>father dysfunct selfish drag kid dysfunct run</td>\n",
              "    </tr>\n",
              "    <tr>\n",
              "      <th>1</th>\n",
              "      <td>0</td>\n",
              "      <td>thank lyft credit use caus offer wheelchair va...</td>\n",
              "    </tr>\n",
              "    <tr>\n",
              "      <th>2</th>\n",
              "      <td>0</td>\n",
              "      <td>bihday majesti</td>\n",
              "    </tr>\n",
              "    <tr>\n",
              "      <th>3</th>\n",
              "      <td>0</td>\n",
              "      <td>model love u take u time ur</td>\n",
              "    </tr>\n",
              "    <tr>\n",
              "      <th>4</th>\n",
              "      <td>0</td>\n",
              "      <td>factsguid societi motiv</td>\n",
              "    </tr>\n",
              "    <tr>\n",
              "      <th>...</th>\n",
              "      <td>...</td>\n",
              "      <td>...</td>\n",
              "    </tr>\n",
              "    <tr>\n",
              "      <th>31957</th>\n",
              "      <td>0</td>\n",
              "      <td>ate isz youuu</td>\n",
              "    </tr>\n",
              "    <tr>\n",
              "      <th>31958</th>\n",
              "      <td>0</td>\n",
              "      <td>see nina turner airwav tri wrap mantl genuin h...</td>\n",
              "    </tr>\n",
              "    <tr>\n",
              "      <th>31959</th>\n",
              "      <td>0</td>\n",
              "      <td>listen sad song monday morn otw work sad</td>\n",
              "    </tr>\n",
              "    <tr>\n",
              "      <th>31960</th>\n",
              "      <td>1</td>\n",
              "      <td>sikh templ vandalis calgari wso condemn act</td>\n",
              "    </tr>\n",
              "    <tr>\n",
              "      <th>31961</th>\n",
              "      <td>0</td>\n",
              "      <td>thank follow</td>\n",
              "    </tr>\n",
              "  </tbody>\n",
              "</table>\n",
              "<p>31962 rows × 2 columns</p>\n",
              "</div>"
            ],
            "text/plain": [
              "       label                                     Cleaned_Tweets\n",
              "0          0      father dysfunct selfish drag kid dysfunct run\n",
              "1          0  thank lyft credit use caus offer wheelchair va...\n",
              "2          0                                     bihday majesti\n",
              "3          0                        model love u take u time ur\n",
              "4          0                            factsguid societi motiv\n",
              "...      ...                                                ...\n",
              "31957      0                                      ate isz youuu\n",
              "31958      0  see nina turner airwav tri wrap mantl genuin h...\n",
              "31959      0           listen sad song monday morn otw work sad\n",
              "31960      1        sikh templ vandalis calgari wso condemn act\n",
              "31961      0                                       thank follow\n",
              "\n",
              "[31962 rows x 2 columns]"
            ]
          },
          "metadata": {
            "tags": []
          },
          "execution_count": 23
        }
      ]
    },
    {
      "cell_type": "markdown",
      "metadata": {
        "id": "bB0kaH_FY0Ho",
        "colab_type": "text"
      },
      "source": [
        "**Tokenization using keras**"
      ]
    },
    {
      "cell_type": "code",
      "metadata": {
        "id": "Qu0F3sR2yxtZ",
        "colab_type": "code",
        "colab": {}
      },
      "source": [
        "from keras.preprocessing.text import Tokenizer\n",
        "from keras.preprocessing.sequence import pad_sequences\n",
        "from keras.models import Sequential\n",
        "from keras import layers\n",
        "\n"
      ],
      "execution_count": 24,
      "outputs": []
    },
    {
      "cell_type": "code",
      "metadata": {
        "id": "0XWVPUFbCWXV",
        "colab_type": "code",
        "colab": {}
      },
      "source": [
        "from sklearn.model_selection import train_test_split\n"
      ],
      "execution_count": 25,
      "outputs": []
    },
    {
      "cell_type": "code",
      "metadata": {
        "id": "M_sStibHdruj",
        "colab_type": "code",
        "colab": {}
      },
      "source": [
        "# Maximum number of words to work with 5000\n",
        "tokenizer = Tokenizer(num_words=5000)"
      ],
      "execution_count": 26,
      "outputs": []
    },
    {
      "cell_type": "code",
      "metadata": {
        "id": "S3LlvUJ83l3j",
        "colab_type": "code",
        "colab": {}
      },
      "source": [
        "# Updates internal vocabulary based on a list of texts. \n",
        "tokenizer.fit_on_texts(Data[\"Cleaned_Tweets\"].values)\n"
      ],
      "execution_count": 27,
      "outputs": []
    },
    {
      "cell_type": "code",
      "metadata": {
        "id": "iABHcAEUz-fG",
        "colab_type": "code",
        "colab": {}
      },
      "source": [
        "# Return list of sequences (one per text input).\n",
        "X = tokenizer.texts_to_sequences(Data[\"Cleaned_Tweets\"].values)\n",
        "X"
      ],
      "execution_count": 29,
      "outputs": []
    },
    {
      "cell_type": "code",
      "metadata": {
        "id": "hI-fh-Aq1gxl",
        "colab_type": "code",
        "colab": {}
      },
      "source": [
        "maxlen = 100\n",
        "# ensure that all sequences in a list have the same length.\n",
        "X = pad_sequences(X, padding=\"post\", maxlen=maxlen)"
      ],
      "execution_count": 30,
      "outputs": []
    },
    {
      "cell_type": "code",
      "metadata": {
        "id": "0-eUkNLR0Iza",
        "colab_type": "code",
        "colab": {
          "base_uri": "https://localhost:8080/",
          "height": 141
        },
        "outputId": "7a698fb7-4300-41b5-ec3a-831fb1aa3990"
      },
      "source": [
        "X"
      ],
      "execution_count": 31,
      "outputs": [
        {
          "output_type": "execute_result",
          "data": {
            "text/plain": [
              "array([[  16, 2122, 1806, ...,    0,    0,    0],\n",
              "       [   5, 4548, 1946, ...,    0,    0,    0],\n",
              "       [  20, 2846,    0, ...,    0,    0,    0],\n",
              "       ...,\n",
              "       [ 230,   64,  269, ...,    0,    0,    0],\n",
              "       [1392, 1096, 1434, ...,    0,    0,    0],\n",
              "       [   5,   47,    0, ...,    0,    0,    0]], dtype=int32)"
            ]
          },
          "metadata": {
            "tags": []
          },
          "execution_count": 31
        }
      ]
    },
    {
      "cell_type": "code",
      "metadata": {
        "id": "t8TeErt043s6",
        "colab_type": "code",
        "colab": {
          "base_uri": "https://localhost:8080/",
          "height": 34
        },
        "outputId": "2712ada9-90bd-4af3-ef64-92764d839f4b"
      },
      "source": [
        "X.shape"
      ],
      "execution_count": 32,
      "outputs": [
        {
          "output_type": "execute_result",
          "data": {
            "text/plain": [
              "(31962, 100)"
            ]
          },
          "metadata": {
            "tags": []
          },
          "execution_count": 32
        }
      ]
    },
    {
      "cell_type": "code",
      "metadata": {
        "id": "porbhuzfD2vZ",
        "colab_type": "code",
        "colab": {}
      },
      "source": [
        "# Target value for the training\n",
        "y= Data[\"label\"].values"
      ],
      "execution_count": 33,
      "outputs": []
    },
    {
      "cell_type": "code",
      "metadata": {
        "id": "8NqmqJFAD77Q",
        "colab_type": "code",
        "colab": {}
      },
      "source": [
        "# calculate vocab size based on word index of tokenized words\n",
        "vocab_size = len(tokenizer.word_index) + 1"
      ],
      "execution_count": 34,
      "outputs": []
    },
    {
      "cell_type": "markdown",
      "metadata": {
        "colab_type": "text",
        "id": "xkolLuBdvoW8"
      },
      "source": [
        "### train/test split of data\n",
        "\n",
        "\n"
      ]
    },
    {
      "cell_type": "code",
      "metadata": {
        "id": "1GgyVzX75w7U",
        "colab_type": "code",
        "colab": {}
      },
      "source": [
        "#70% training and 30% test\n",
        "x_train, x_test, y_train, y_test = train_test_split(X,y,train_size=0.7, test_size=0.3,random_state=15)"
      ],
      "execution_count": 35,
      "outputs": []
    },
    {
      "cell_type": "code",
      "metadata": {
        "id": "3N6haPvT5xTh",
        "colab_type": "code",
        "colab": {
          "base_uri": "https://localhost:8080/",
          "height": 34
        },
        "outputId": "a5eb651f-0224-4888-e587-ffe007632048"
      },
      "source": [
        "print(x_test.shape, y_test.shape)"
      ],
      "execution_count": 36,
      "outputs": [
        {
          "output_type": "stream",
          "text": [
            "(9589, 100) (9589,)\n"
          ],
          "name": "stdout"
        }
      ]
    },
    {
      "cell_type": "code",
      "metadata": {
        "id": "JOgQ7RJyba_N",
        "colab_type": "code",
        "colab": {
          "base_uri": "https://localhost:8080/",
          "height": 34
        },
        "outputId": "ca38dfec-d5ff-44a7-9caa-655d56624804"
      },
      "source": [
        "print(x_train.shape, y_train.shape)"
      ],
      "execution_count": 37,
      "outputs": [
        {
          "output_type": "stream",
          "text": [
            "(22373, 100) (22373,)\n"
          ],
          "name": "stdout"
        }
      ]
    },
    {
      "cell_type": "markdown",
      "metadata": {
        "id": "rQsuGrpvIIzT",
        "colab_type": "text"
      },
      "source": [
        "**Simple deeplearning model**"
      ]
    },
    {
      "cell_type": "code",
      "metadata": {
        "id": "9LGz75AYMwSt",
        "colab_type": "code",
        "colab": {
          "base_uri": "https://localhost:8080/",
          "height": 407
        },
        "outputId": "99ae856e-ad4f-415d-9c30-cc2de02eb6cd"
      },
      "source": [
        "\n",
        "embedding_dim = 50\n",
        "\n",
        "model = Sequential()\n",
        "# embeding layer\n",
        "model.add(layers.Embedding(input_dim=vocab_size, \n",
        "                           output_dim=embedding_dim, \n",
        "                           input_length=maxlen))\n",
        "# flattening\n",
        "model.add(layers.Flatten())\n",
        "\n",
        "# Add a Dense layer with 10 units.\n",
        "model.add(layers.Dense(10, activation='relu'))\n",
        "model.add(layers.Dropout(0.2))\n",
        "\n",
        "# Add a Dense layer with 5 units.\n",
        "model.add(layers.Dense(5, activation='relu'))\n",
        "model.add(layers.Dropout(0.2))\n",
        "\n",
        "\n",
        "model.add(layers.Dense(1, activation='sigmoid'))\n",
        "\n",
        "# compile the model with chosen parameters\n",
        "model.compile(optimizer='adam',\n",
        "              loss='binary_crossentropy',\n",
        "              metrics=['accuracy'])\n",
        "\n",
        "# print summary of the model\n",
        "model.summary()\n",
        "\n",
        "\n"
      ],
      "execution_count": 38,
      "outputs": [
        {
          "output_type": "stream",
          "text": [
            "Model: \"sequential\"\n",
            "_________________________________________________________________\n",
            "Layer (type)                 Output Shape              Param #   \n",
            "=================================================================\n",
            "embedding (Embedding)        (None, 100, 50)           1566300   \n",
            "_________________________________________________________________\n",
            "flatten (Flatten)            (None, 5000)              0         \n",
            "_________________________________________________________________\n",
            "dense (Dense)                (None, 10)                50010     \n",
            "_________________________________________________________________\n",
            "dropout (Dropout)            (None, 10)                0         \n",
            "_________________________________________________________________\n",
            "dense_1 (Dense)              (None, 5)                 55        \n",
            "_________________________________________________________________\n",
            "dropout_1 (Dropout)          (None, 5)                 0         \n",
            "_________________________________________________________________\n",
            "dense_2 (Dense)              (None, 1)                 6         \n",
            "=================================================================\n",
            "Total params: 1,616,371\n",
            "Trainable params: 1,616,371\n",
            "Non-trainable params: 0\n",
            "_________________________________________________________________\n"
          ],
          "name": "stdout"
        }
      ]
    },
    {
      "cell_type": "code",
      "metadata": {
        "id": "j_LACxprNEdZ",
        "colab_type": "code",
        "colab": {}
      },
      "source": [
        ""
      ],
      "execution_count": 38,
      "outputs": []
    },
    {
      "cell_type": "code",
      "metadata": {
        "id": "WZ9eAxl5CcW9",
        "colab_type": "code",
        "colab": {
          "base_uri": "https://localhost:8080/",
          "height": 390
        },
        "outputId": "84fbf056-6b09-463e-a8b3-b86524fb9739"
      },
      "source": [
        "\n",
        "model.fit(x_train, y_train,\n",
        "                    epochs=10,\n",
        "                    verbose=True,\n",
        "                    validation_data=(x_test, y_test),\n",
        "                    batch_size=30)\n"
      ],
      "execution_count": 39,
      "outputs": [
        {
          "output_type": "stream",
          "text": [
            "Epoch 1/10\n",
            "746/746 [==============================] - 14s 18ms/step - loss: 0.2202 - accuracy: 0.9306 - val_loss: 0.1467 - val_accuracy: 0.9280\n",
            "Epoch 2/10\n",
            "746/746 [==============================] - 13s 18ms/step - loss: 0.1219 - accuracy: 0.9361 - val_loss: 0.1472 - val_accuracy: 0.9547\n",
            "Epoch 3/10\n",
            "746/746 [==============================] - 13s 18ms/step - loss: 0.0919 - accuracy: 0.9729 - val_loss: 0.1725 - val_accuracy: 0.9567\n",
            "Epoch 4/10\n",
            "746/746 [==============================] - 13s 18ms/step - loss: 0.0720 - accuracy: 0.9810 - val_loss: 0.2061 - val_accuracy: 0.9543\n",
            "Epoch 5/10\n",
            "746/746 [==============================] - 14s 18ms/step - loss: 0.0528 - accuracy: 0.9864 - val_loss: 0.2318 - val_accuracy: 0.9531\n",
            "Epoch 6/10\n",
            "746/746 [==============================] - 13s 18ms/step - loss: 0.0424 - accuracy: 0.9898 - val_loss: 0.3121 - val_accuracy: 0.9563\n",
            "Epoch 7/10\n",
            "746/746 [==============================] - 14s 18ms/step - loss: 0.0339 - accuracy: 0.9918 - val_loss: 0.3821 - val_accuracy: 0.9549\n",
            "Epoch 8/10\n",
            "746/746 [==============================] - 14s 18ms/step - loss: 0.0291 - accuracy: 0.9929 - val_loss: 0.4712 - val_accuracy: 0.9564\n",
            "Epoch 9/10\n",
            "746/746 [==============================] - 14s 19ms/step - loss: 0.0262 - accuracy: 0.9934 - val_loss: 0.5225 - val_accuracy: 0.9563\n",
            "Epoch 10/10\n",
            "746/746 [==============================] - 14s 18ms/step - loss: 0.0247 - accuracy: 0.9933 - val_loss: 0.5697 - val_accuracy: 0.9554\n"
          ],
          "name": "stdout"
        },
        {
          "output_type": "execute_result",
          "data": {
            "text/plain": [
              "<tensorflow.python.keras.callbacks.History at 0x7f66a56cc518>"
            ]
          },
          "metadata": {
            "tags": []
          },
          "execution_count": 39
        }
      ]
    },
    {
      "cell_type": "code",
      "metadata": {
        "id": "Dk2waMMW1iwn",
        "colab_type": "code",
        "colab": {}
      },
      "source": [
        ""
      ],
      "execution_count": 39,
      "outputs": []
    },
    {
      "cell_type": "code",
      "metadata": {
        "colab_type": "code",
        "id": "obxuOXc_CfOH",
        "colab": {
          "base_uri": "https://localhost:8080/",
          "height": 52
        },
        "outputId": "2ea8ab17-da7e-4501-b7df-c5f5bdd0e7c5"
      },
      "source": [
        "# Model evaluation\n",
        "scores = model.evaluate(x_test, y_test, verbose=2)\n",
        "print(\"Accuracy: %.2f%%\" % (scores[1]*100))\n"
      ],
      "execution_count": 40,
      "outputs": [
        {
          "output_type": "stream",
          "text": [
            "300/300 - 0s - loss: 0.5697 - accuracy: 0.9554\n",
            "Accuracy: 95.54%\n"
          ],
          "name": "stdout"
        }
      ]
    },
    {
      "cell_type": "code",
      "metadata": {
        "id": "RCYG5xEtHqU_",
        "colab_type": "code",
        "colab": {}
      },
      "source": [
        ""
      ],
      "execution_count": 40,
      "outputs": []
    },
    {
      "cell_type": "markdown",
      "metadata": {
        "id": "rOiL2OO_Ct3G",
        "colab_type": "text"
      },
      "source": [
        "**Recurrent Neural Networks (RNN) with Keras**\n"
      ]
    },
    {
      "cell_type": "code",
      "metadata": {
        "id": "4ShaPLGw5xkj",
        "colab_type": "code",
        "colab": {}
      },
      "source": [
        "model2 = Sequential()"
      ],
      "execution_count": 35,
      "outputs": []
    },
    {
      "cell_type": "code",
      "metadata": {
        "id": "isH3jsuW5xMX",
        "colab_type": "code",
        "colab": {}
      },
      "source": [
        "model2.add(layers.Embedding(input_dim=vocab_size, \n",
        "                           output_dim=128,\n",
        "                           input_length=X.shape[1]))"
      ],
      "execution_count": 36,
      "outputs": []
    },
    {
      "cell_type": "code",
      "metadata": {
        "id": "zJBe4MJDMuIB",
        "colab_type": "code",
        "colab": {}
      },
      "source": [
        "# performs the same function as Dropout, however, it drops entire 1D feature maps instead of individual elements\n",
        "model2.add(layers.SpatialDropout1D(0.5))"
      ],
      "execution_count": 37,
      "outputs": []
    },
    {
      "cell_type": "code",
      "metadata": {
        "id": "HYkhxspZEmfi",
        "colab_type": "code",
        "colab": {}
      },
      "source": [
        "#Add a LSTM layer with 185 internal units.\n",
        "\n",
        "model2.add(layers.LSTM(185, dropout=0.4, recurrent_dropout=0.4))\n"
      ],
      "execution_count": 38,
      "outputs": []
    },
    {
      "cell_type": "code",
      "metadata": {
        "colab_type": "code",
        "id": "oqqDygLAKizp",
        "colab": {}
      },
      "source": [
        "# Add a Dense layer with 2 units. using softmax activation and using categorical_crossentropy\n",
        "\n",
        "model2.add(layers.Dense(2,activation='softmax'))\n",
        "model2.compile(loss = 'categorical_crossentropy', optimizer='adam',metrics = ['accuracy'])"
      ],
      "execution_count": 39,
      "outputs": []
    },
    {
      "cell_type": "code",
      "metadata": {
        "id": "0QYNZf4RFfEG",
        "colab_type": "code",
        "colab": {}
      },
      "source": [
        ""
      ],
      "execution_count": 39,
      "outputs": []
    },
    {
      "cell_type": "code",
      "metadata": {
        "id": "CmoAhwcnFs62",
        "colab_type": "code",
        "colab": {}
      },
      "source": [
        "# To adjust the shape to the \n",
        "Y = pd.get_dummies(Data['label']).values\n",
        "\n",
        "# train test split for the changed value\n",
        "x_train, x_test, y_train, y_test = train_test_split(X,Y,train_size=0.7, test_size=0.3,random_state=15)"
      ],
      "execution_count": 40,
      "outputs": []
    },
    {
      "cell_type": "code",
      "metadata": {
        "id": "4CFy0To-Eold",
        "colab_type": "code",
        "colab": {
          "base_uri": "https://localhost:8080/",
          "height": 301
        },
        "outputId": "690bb568-1151-4f5d-f9d1-87c4eb51fb58"
      },
      "source": [
        "model2.summary()\n"
      ],
      "execution_count": 41,
      "outputs": [
        {
          "output_type": "stream",
          "text": [
            "Model: \"sequential\"\n",
            "_________________________________________________________________\n",
            "Layer (type)                 Output Shape              Param #   \n",
            "=================================================================\n",
            "embedding (Embedding)        (None, 100, 128)          4009728   \n",
            "_________________________________________________________________\n",
            "spatial_dropout1d (SpatialDr (None, 100, 128)          0         \n",
            "_________________________________________________________________\n",
            "lstm (LSTM)                  (None, 185)               232360    \n",
            "_________________________________________________________________\n",
            "dense (Dense)                (None, 2)                 372       \n",
            "=================================================================\n",
            "Total params: 4,242,460\n",
            "Trainable params: 4,242,460\n",
            "Non-trainable params: 0\n",
            "_________________________________________________________________\n"
          ],
          "name": "stdout"
        }
      ]
    },
    {
      "cell_type": "code",
      "metadata": {
        "id": "oqs9uDMIDVVn",
        "colab_type": "code",
        "colab": {
          "base_uri": "https://localhost:8080/",
          "height": 34
        },
        "outputId": "cd7d57ff-b1b2-4fe7-fd05-748e9f1339b1"
      },
      "source": [
        "print(X_train.shape, Y_train.shape)"
      ],
      "execution_count": 42,
      "outputs": [
        {
          "output_type": "stream",
          "text": [
            "(21414, 100) (21414, 2)\n"
          ],
          "name": "stdout"
        }
      ]
    },
    {
      "cell_type": "code",
      "metadata": {
        "id": "LOieBB70Eo5b",
        "colab_type": "code",
        "colab": {
          "base_uri": "https://localhost:8080/",
          "height": 141
        },
        "outputId": "9781e4f0-34cc-4b9b-81a9-591262b1241b"
      },
      "source": [
        "model2.fit(X_train, Y_train, epochs = 3, batch_size=30, verbose=True)\n"
      ],
      "execution_count": 43,
      "outputs": [
        {
          "output_type": "stream",
          "text": [
            "Epoch 1/3\n",
            "714/714 [==============================] - 360s 505ms/step - loss: 0.2600 - accuracy: 0.9290\n",
            "Epoch 2/3\n",
            "714/714 [==============================] - 364s 510ms/step - loss: 0.2555 - accuracy: 0.9300\n",
            "Epoch 3/3\n",
            "714/714 [==============================] - 361s 505ms/step - loss: 0.2553 - accuracy: 0.9300\n"
          ],
          "name": "stdout"
        },
        {
          "output_type": "execute_result",
          "data": {
            "text/plain": [
              "<tensorflow.python.keras.callbacks.History at 0x7fc3520a1e10>"
            ]
          },
          "metadata": {
            "tags": []
          },
          "execution_count": 43
        }
      ]
    },
    {
      "cell_type": "code",
      "metadata": {
        "colab_type": "code",
        "id": "a845X7cRW-AA",
        "colab": {
          "base_uri": "https://localhost:8080/",
          "height": 52
        },
        "outputId": "1096a445-267f-4a66-a82e-05336696875d"
      },
      "source": [
        "# Model evaluation\n",
        "scores = model2.evaluate(X_test, Y_test, verbose=2)\n",
        "print(\"Accuracy: %.2f%%\" % (scores[1]*100))\n"
      ],
      "execution_count": 45,
      "outputs": [
        {
          "output_type": "stream",
          "text": [
            "330/330 - 20s - loss: 0.2549 - accuracy: 0.9297\n",
            "Accuracy: 92.97%\n"
          ],
          "name": "stdout"
        }
      ]
    },
    {
      "cell_type": "code",
      "metadata": {
        "id": "CklFCmPsKtcV",
        "colab_type": "code",
        "colab": {}
      },
      "source": [
        ""
      ],
      "execution_count": null,
      "outputs": []
    },
    {
      "cell_type": "code",
      "metadata": {
        "id": "KZp4xjtVEoxW",
        "colab_type": "code",
        "colab": {}
      },
      "source": [
        ""
      ],
      "execution_count": null,
      "outputs": []
    }
  ]
}