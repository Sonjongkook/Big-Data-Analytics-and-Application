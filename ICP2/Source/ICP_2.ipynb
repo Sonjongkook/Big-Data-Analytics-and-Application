{
  "nbformat": 4,
  "nbformat_minor": 0,
  "metadata": {
    "colab": {
      "name": "ICP_2.ipynb",
      "provenance": []
    },
    "kernelspec": {
      "name": "python3",
      "display_name": "Python 3"
    }
  },
  "cells": [
    {
      "cell_type": "code",
      "metadata": {
        "id": "0uJKsuiNRZRN",
        "colab_type": "code",
        "colab": {}
      },
      "source": [
        "!apt-get install openjdk-8-jdk-headless -qq > /dev/null\n",
        "!wget -q https://downloads.apache.org/spark/spark-3.0.0/spark-3.0.0-bin-hadoop3.2.tgz\n",
        "!tar xf spark-3.0.0-bin-hadoop3.2.tgz\n",
        "!pip install -q findspark"
      ],
      "execution_count": 1,
      "outputs": []
    },
    {
      "cell_type": "markdown",
      "metadata": {
        "id": "Iw6zmA9MOueK",
        "colab_type": "text"
      },
      "source": [
        "**Code for spark Integration into Google Colab**"
      ]
    },
    {
      "cell_type": "code",
      "metadata": {
        "id": "1Uq0EEgozGic",
        "colab_type": "code",
        "colab": {
          "base_uri": "https://localhost:8080/",
          "height": 52
        },
        "outputId": "e72c46e1-ca10-4943-d982-4a051c1e74b6"
      },
      "source": [
        "!ls /usr/lib/jvm/"
      ],
      "execution_count": 2,
      "outputs": [
        {
          "output_type": "stream",
          "text": [
            "default-java\t\t   java-11-openjdk-amd64     java-8-openjdk-amd64\n",
            "java-1.11.0-openjdk-amd64  java-1.8.0-openjdk-amd64\n"
          ],
          "name": "stdout"
        }
      ]
    },
    {
      "cell_type": "code",
      "metadata": {
        "id": "YRxFz1IWnMY9",
        "colab_type": "code",
        "colab": {}
      },
      "source": [
        "import os\n",
        "os.environ[\"JAVA_HOME\"] = \"/usr/lib/jvm/java-8-openjdk-amd64\"\n",
        "os.environ[\"SPARK_HOME\"] = \"/content/spark-3.0.0-bin-hadoop3.2\""
      ],
      "execution_count": 3,
      "outputs": []
    },
    {
      "cell_type": "code",
      "metadata": {
        "id": "DQXrIXDgnNtd",
        "colab_type": "code",
        "colab": {
          "base_uri": "https://localhost:8080/",
          "height": 247
        },
        "outputId": "b44e7e3a-5816-4a59-9ea4-53df7e1cc3b0"
      },
      "source": [
        "!pip install pyspark\n"
      ],
      "execution_count": 4,
      "outputs": [
        {
          "output_type": "stream",
          "text": [
            "Collecting pyspark\n",
            "\u001b[?25l  Downloading https://files.pythonhosted.org/packages/8e/b0/bf9020b56492281b9c9d8aae8f44ff51e1bc91b3ef5a884385cb4e389a40/pyspark-3.0.0.tar.gz (204.7MB)\n",
            "\u001b[K     |████████████████████████████████| 204.7MB 64kB/s \n",
            "\u001b[?25hCollecting py4j==0.10.9\n",
            "\u001b[?25l  Downloading https://files.pythonhosted.org/packages/9e/b6/6a4fb90cd235dc8e265a6a2067f2a2c99f0d91787f06aca4bcf7c23f3f80/py4j-0.10.9-py2.py3-none-any.whl (198kB)\n",
            "\u001b[K     |████████████████████████████████| 204kB 40.8MB/s \n",
            "\u001b[?25hBuilding wheels for collected packages: pyspark\n",
            "  Building wheel for pyspark (setup.py) ... \u001b[?25l\u001b[?25hdone\n",
            "  Created wheel for pyspark: filename=pyspark-3.0.0-py2.py3-none-any.whl size=205044184 sha256=fc5e580ddf35205adbdaa3824898df7eba4dbb3de6e03b4b1ce3c14ab3f5c059\n",
            "  Stored in directory: /root/.cache/pip/wheels/57/27/4d/ddacf7143f8d5b76c45c61ee2e43d9f8492fc5a8e78ebd7d37\n",
            "Successfully built pyspark\n",
            "Installing collected packages: py4j, pyspark\n",
            "Successfully installed py4j-0.10.9 pyspark-3.0.0\n"
          ],
          "name": "stdout"
        }
      ]
    },
    {
      "cell_type": "markdown",
      "metadata": {
        "id": "c1wSJ2_0O_dF",
        "colab_type": "text"
      },
      "source": [
        "**Install pyspark in Google Colab**"
      ]
    },
    {
      "cell_type": "code",
      "metadata": {
        "id": "PuTNatj9nVTg",
        "colab_type": "code",
        "colab": {}
      },
      "source": [
        "from pyspark import SparkContext"
      ],
      "execution_count": 5,
      "outputs": []
    },
    {
      "cell_type": "markdown",
      "metadata": {
        "id": "dlKTZ-c6OBqn",
        "colab_type": "text"
      },
      "source": [
        "**Import SparkContext which is the entry point to any spark functionality.**"
      ]
    },
    {
      "cell_type": "code",
      "metadata": {
        "id": "L6fLBMrmniR5",
        "colab_type": "code",
        "colab": {}
      },
      "source": [
        "sc = SparkContext() "
      ],
      "execution_count": 6,
      "outputs": []
    },
    {
      "cell_type": "code",
      "metadata": {
        "id": "7EKLqYrt29G-",
        "colab_type": "code",
        "colab": {}
      },
      "source": [
        "rdd = sc.textFile(\"/content/drive/My Drive/icp2.txt\")"
      ],
      "execution_count": 7,
      "outputs": []
    },
    {
      "cell_type": "markdown",
      "metadata": {
        "id": "vHj9djOCNsse",
        "colab_type": "text"
      },
      "source": [
        "**Read the textfie that is given by using SparkContext and make it as RDD instance**"
      ]
    },
    {
      "cell_type": "code",
      "metadata": {
        "id": "MemrZQ7tRfi9",
        "colab_type": "code",
        "colab": {}
      },
      "source": [
        "# rdd.collect()"
      ],
      "execution_count": null,
      "outputs": []
    },
    {
      "cell_type": "code",
      "metadata": {
        "id": "oAQwpnff3mcq",
        "colab_type": "code",
        "colab": {}
      },
      "source": [
        "rdd = rdd.flatMap(lambda x: x.lower().split(\" \"))"
      ],
      "execution_count": 8,
      "outputs": []
    },
    {
      "cell_type": "markdown",
      "metadata": {
        "id": "ewdg-uVQTmU8",
        "colab_type": "text"
      },
      "source": [
        "**Ussing flatmap and change each data output with lower character and split by blank**"
      ]
    },
    {
      "cell_type": "code",
      "metadata": {
        "id": "vOaFS8R4o6HL",
        "colab_type": "code",
        "colab": {}
      },
      "source": [
        "rdd =rdd.map(lambda x: (x[0], x))"
      ],
      "execution_count": 9,
      "outputs": []
    },
    {
      "cell_type": "markdown",
      "metadata": {
        "id": "wNkyoPr-UCaH",
        "colab_type": "text"
      },
      "source": [
        "**Using map, change each data with tuple containng first letter and word itself**"
      ]
    },
    {
      "cell_type": "code",
      "metadata": {
        "id": "_dSQRhD3R1Ho",
        "colab_type": "code",
        "colab": {}
      },
      "source": [
        "# rdd.collect()"
      ],
      "execution_count": null,
      "outputs": []
    },
    {
      "cell_type": "code",
      "metadata": {
        "id": "okuz7WF8o7Py",
        "colab_type": "code",
        "colab": {}
      },
      "source": [
        "rdd = rdd.groupByKey().mapValues(list).sortByKey()"
      ],
      "execution_count": 10,
      "outputs": []
    },
    {
      "cell_type": "markdown",
      "metadata": {
        "id": "ngFUPV5pl1ud",
        "colab_type": "text"
      },
      "source": [
        "**Using group By key method and also sort it by key value to be arranged**"
      ]
    },
    {
      "cell_type": "code",
      "metadata": {
        "id": "P6zzv-1_qkhb",
        "colab_type": "code",
        "colab": {
          "base_uri": "https://localhost:8080/",
          "height": 1000
        },
        "outputId": "f5058fbe-e9af-468f-f3ac-97d7f39852c3"
      },
      "source": [
        "rdd.collect()"
      ],
      "execution_count": 11,
      "outputs": [
        {
          "output_type": "execute_result",
          "data": {
            "text/plain": [
              "[('1', ['1,000']),\n",
              " ('a', ['a', 'a', 'and', 'a', 'after', 'all.', 'a', 'and', 'a', 'act']),\n",
              " ('b', ['be', 'by', 'berlusconi,', 'because']),\n",
              " ('c',\n",
              "  ['carolina',\n",
              "   'currently',\n",
              "   'c.d.c.',\n",
              "   'concerns',\n",
              "   'college',\n",
              "   'cases',\n",
              "   'can',\n",
              "   'critically',\n",
              "   'covid-19.',\n",
              "   'california',\n",
              "   'considering']),\n",
              " ('d', ['distribute', 'death', 'dakota', 'drugs']),\n",
              " ('f', ['football', 'fans', 'fallout', 'from', 'former']),\n",
              " ('h', ['have', 'health', 'have', 'help']),\n",
              " ('i', ['in', 'iowa,', 'in', 'in', 'inexpensive', 'italy’s']),\n",
              " ('j', ['judge']),\n",
              " ('m', ['more', 'motorcycle', 'minnesota,', 'more.', 'minister,']),\n",
              " ('n', ['november,', 'new']),\n",
              " ('o', ['of', 'officials', 'over', 'opener', 'orders', 'of', 'or', 'of']),\n",
              " ('p', ['politicized', 'people', 'prime', 'positive.', 'pandemic.']),\n",
              " ('r', ['reports', 'ready', 'raising', 'rally:']),\n",
              " ('s',\n",
              "  ['south',\n",
              "   'students',\n",
              "   'students',\n",
              "   'staged',\n",
              "   'sickout,',\n",
              "   'sturgis',\n",
              "   'south',\n",
              "   'studies',\n",
              "   'show',\n",
              "   'steroid',\n",
              "   'sick',\n",
              "   'survive',\n",
              "   'silvio',\n",
              "   'stop',\n",
              "   'sat',\n",
              "   'scores']),\n",
              " ('t',\n",
              "  ['the',\n",
              "   'that',\n",
              "   'than',\n",
              "   'the',\n",
              "   'the',\n",
              "   'tells',\n",
              "   'to',\n",
              "   'to',\n",
              "   'timing.',\n",
              "   'the',\n",
              "   'tests',\n",
              "   'the',\n",
              "   'to',\n",
              "   'the']),\n",
              " ('u', ['university', 'university']),\n",
              " ('v', ['virus.', 'vaccine', 'virus']),\n",
              " ('w', ['won’t'])]"
            ]
          },
          "metadata": {
            "tags": []
          },
          "execution_count": 11
        }
      ]
    },
    {
      "cell_type": "code",
      "metadata": {
        "id": "G1nY4EIikOe9",
        "colab_type": "code",
        "colab": {}
      },
      "source": [
        "rdd.saveAsTextFile('/content/drive/My Drive/Output')"
      ],
      "execution_count": 16,
      "outputs": []
    },
    {
      "cell_type": "markdown",
      "metadata": {
        "id": "HD-iB7OWmHEW",
        "colab_type": "text"
      },
      "source": [
        "**Save it as a textfile and saved it on Google Drive**"
      ]
    },
    {
      "cell_type": "code",
      "metadata": {
        "id": "spn0elVpiAPp",
        "colab_type": "code",
        "colab": {}
      },
      "source": [
        ""
      ],
      "execution_count": null,
      "outputs": []
    }
  ]
}