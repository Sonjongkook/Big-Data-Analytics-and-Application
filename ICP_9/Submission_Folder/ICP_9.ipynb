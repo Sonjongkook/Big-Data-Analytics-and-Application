{
  "nbformat": 4,
  "nbformat_minor": 0,
  "metadata": {
    "colab": {
      "name": "ICP_9",
      "provenance": [],
      "collapsed_sections": []
    },
    "kernelspec": {
      "name": "python3",
      "display_name": "Python 3"
    }
  },
  "cells": [
    {
      "cell_type": "markdown",
      "metadata": {
        "id": "c4ndy8fCypRv"
      },
      "source": [
        "#Simple linear regression "
      ]
    },
    {
      "cell_type": "code",
      "metadata": {
        "id": "tTmuNJvTjO3T"
      },
      "source": [
        "# Import library\n",
        "import pandas  as pd #Data manipulation\n",
        "import matplotlib.pyplot as plt # Visualization\n",
        "from sklearn.model_selection import train_test_split\n",
        "from sklearn.linear_model import LinearRegression\n",
        "from sklearn.metrics import mean_squared_error\n",
        "\n"
      ],
      "execution_count": 1,
      "outputs": []
    },
    {
      "cell_type": "code",
      "metadata": {
        "id": "9Map1ZHOjesM"
      },
      "source": [
        "# salary and workexperience data\n",
        "df =pd.read_csv(\"/content/Salary_Data.csv\")"
      ],
      "execution_count": 2,
      "outputs": []
    },
    {
      "cell_type": "code",
      "metadata": {
        "id": "oPnrwIfHjniV",
        "outputId": "a3d76abd-42f6-4841-8ead-d866b9cae849",
        "colab": {
          "base_uri": "https://localhost:8080/",
          "height": 70
        }
      },
      "source": [
        "print('\\nNumber of rows and columns in the data set: ',df.shape)\n",
        "print('')"
      ],
      "execution_count": 3,
      "outputs": [
        {
          "output_type": "stream",
          "text": [
            "\n",
            "Number of rows and columns in the data set:  (30, 2)\n",
            "\n"
          ],
          "name": "stdout"
        }
      ]
    },
    {
      "cell_type": "code",
      "metadata": {
        "id": "eVpRGwr-jsU-",
        "outputId": "418843b9-0553-4185-875d-5c365af1726c",
        "colab": {
          "base_uri": "https://localhost:8080/",
          "height": 197
        }
      },
      "source": [
        "#Lets look into top few rows and columns in the dataset\n",
        "df.head()"
      ],
      "execution_count": 4,
      "outputs": [
        {
          "output_type": "execute_result",
          "data": {
            "text/html": [
              "<div>\n",
              "<style scoped>\n",
              "    .dataframe tbody tr th:only-of-type {\n",
              "        vertical-align: middle;\n",
              "    }\n",
              "\n",
              "    .dataframe tbody tr th {\n",
              "        vertical-align: top;\n",
              "    }\n",
              "\n",
              "    .dataframe thead th {\n",
              "        text-align: right;\n",
              "    }\n",
              "</style>\n",
              "<table border=\"1\" class=\"dataframe\">\n",
              "  <thead>\n",
              "    <tr style=\"text-align: right;\">\n",
              "      <th></th>\n",
              "      <th>YearsExperience</th>\n",
              "      <th>Salary</th>\n",
              "    </tr>\n",
              "  </thead>\n",
              "  <tbody>\n",
              "    <tr>\n",
              "      <th>0</th>\n",
              "      <td>1.1</td>\n",
              "      <td>39343.0</td>\n",
              "    </tr>\n",
              "    <tr>\n",
              "      <th>1</th>\n",
              "      <td>1.3</td>\n",
              "      <td>46205.0</td>\n",
              "    </tr>\n",
              "    <tr>\n",
              "      <th>2</th>\n",
              "      <td>1.5</td>\n",
              "      <td>37731.0</td>\n",
              "    </tr>\n",
              "    <tr>\n",
              "      <th>3</th>\n",
              "      <td>2.0</td>\n",
              "      <td>43525.0</td>\n",
              "    </tr>\n",
              "    <tr>\n",
              "      <th>4</th>\n",
              "      <td>2.2</td>\n",
              "      <td>39891.0</td>\n",
              "    </tr>\n",
              "  </tbody>\n",
              "</table>\n",
              "</div>"
            ],
            "text/plain": [
              "   YearsExperience   Salary\n",
              "0              1.1  39343.0\n",
              "1              1.3  46205.0\n",
              "2              1.5  37731.0\n",
              "3              2.0  43525.0\n",
              "4              2.2  39891.0"
            ]
          },
          "metadata": {
            "tags": []
          },
          "execution_count": 4
        }
      ]
    },
    {
      "cell_type": "code",
      "metadata": {
        "id": "SZlcTaBsvMdG",
        "outputId": "92261737-a4a9-45e6-bf5e-83af8411ded8",
        "colab": {
          "base_uri": "https://localhost:8080/",
          "height": 294
        }
      },
      "source": [
        "# Scatter plot and show relationship between expereience and salary\n",
        "\n",
        "plt.scatter(df[\"YearsExperience\"], df[\"Salary\"])\n",
        "plt.title(\"Relationship between YearsExperience and Salary\")\n",
        "plt.xlabel(\"YearsExperience\")\n",
        "plt.ylabel(\"Salary\")\n",
        "plt.show()"
      ],
      "execution_count": 5,
      "outputs": [
        {
          "output_type": "display_data",
          "data": {
            "image/png": "[encoded data removed]",
            "text/plain": [
              "<Figure size 432x288 with 1 Axes>"
            ]
          },
          "metadata": {
            "tags": [],
            "needs_background": "light"
          }
        }
      ]
    },
    {
      "cell_type": "code",
      "metadata": {
        "id": "SYwAbcnTxRNK"
      },
      "source": [
        ""
      ],
      "execution_count": 5,
      "outputs": []
    },
    {
      "cell_type": "code",
      "metadata": {
        "id": "Fns8TyE6ipH6"
      },
      "source": [
        "# split the data 80% for training\n",
        "\n",
        "num = int(len(df)*0.8)\n",
        "train = df[:num]\n",
        "test = df[num:]\n",
        "\n"
      ],
      "execution_count": 6,
      "outputs": []
    },
    {
      "cell_type": "markdown",
      "metadata": {
        "id": "802e3PWNmYyJ"
      },
      "source": [
        "![0_h8A4y8W3FLs5qt2P.png](data:image/png;base64,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)"
      ]
    },
    {
      "cell_type": "markdown",
      "metadata": {
        "id": "3y-wkiwXoaj9"
      },
      "source": [
        "###Main function to calculate the coefficients of the linear best fit"
      ]
    },
    {
      "cell_type": "code",
      "metadata": {
        "id": "_kn0i49ljuRw"
      },
      "source": [
        "# based on formula to get best fit line in linear regression\n",
        "\n",
        "def simple_linear_regression(X, Y):\n",
        "  # number of data\n",
        "  n = len(X)\n",
        "\n",
        "  # x bar\n",
        "  X_mean = X.mean()\n",
        "\n",
        "  # y bar\n",
        "  Y_mean = Y.mean()\n",
        "\n",
        "  # sum of x and y\n",
        "  SUM_X = X.sum()\n",
        "  SUM_Y = Y.sum()\n",
        "\n",
        "  # sum of (X*Y) multiplied by n:\n",
        "  SUM_XY= ((X*Y).sum())*n\n",
        "\n",
        "  # sum of x * sum of y\n",
        "  SUM_X_SUM_Y = SUM_X*SUM_Y\n",
        "\n",
        "  # sum of (x*x) multiplied by n\n",
        "  SUM_XX = ((X*X).sum())*n\n",
        "  \n",
        "  # square of sum of x\n",
        "  SUM_X_Square = SUM_X*SUM_X \n",
        "\n",
        "  # slope\n",
        "  slope = (SUM_XY- SUM_X_SUM_Y)/(SUM_XX- SUM_X_Square)\n",
        "\n",
        "  intercept = Y_mean - slope *X_mean\n",
        "\n",
        "  return slope,intercept\n",
        "\n",
        "\n"
      ],
      "execution_count": 7,
      "outputs": []
    },
    {
      "cell_type": "markdown",
      "metadata": {
        "id": "IkI8zCSqyxaJ"
      },
      "source": [
        "###Calculate Slope and Y_intercept\n"
      ]
    },
    {
      "cell_type": "code",
      "metadata": {
        "id": "HcmlMDy6yphk"
      },
      "source": [
        "# calcualte bestfit slope and y intercept\n",
        "# training the model with train data\n",
        "actual_slope, actual_intercept = simple_linear_regression(train[\"YearsExperience\"], train[\"Salary\"])"
      ],
      "execution_count": 8,
      "outputs": []
    },
    {
      "cell_type": "code",
      "metadata": {
        "id": "XgINSo_bypwl",
        "outputId": "98cb00eb-77b1-4327-eaa3-a9879b28c2a7",
        "colab": {
          "base_uri": "https://localhost:8080/",
          "height": 52
        }
      },
      "source": [
        "print(\"Slope: \", actual_slope)\n",
        "print(\"Y_intercept: \", actual_intercept)"
      ],
      "execution_count": 9,
      "outputs": [
        {
          "output_type": "stream",
          "text": [
            "Slope:  10052.786167455975\n",
            "Y_intercept:  23659.848673040913\n"
          ],
          "name": "stdout"
        }
      ]
    },
    {
      "cell_type": "code",
      "metadata": {
        "id": "0ZYxp7hulPjJ"
      },
      "source": [
        "# defining prediction function\n",
        "def get_regression_prediction(input, slope,intercept):\n",
        "  pred_value = slope*input + intercept \n",
        "  return pred_value"
      ],
      "execution_count": 10,
      "outputs": []
    },
    {
      "cell_type": "code",
      "metadata": {
        "id": "qf9vN9c121XQ"
      },
      "source": [
        "# predicting values for whole dataset\n",
        "y_pred = get_regression_prediction(df[\"YearsExperience\"], actual_slope, actual_intercept)"
      ],
      "execution_count": 11,
      "outputs": []
    },
    {
      "cell_type": "code",
      "metadata": {
        "id": "OhdKZk6OmFcB"
      },
      "source": [
        "y_pred"
      ],
      "execution_count": null,
      "outputs": []
    },
    {
      "cell_type": "code",
      "metadata": {
        "id": "KqDa7zdxmNyz",
        "outputId": "f87d05a8-ff14-47a9-e607-d5b036ee4b55",
        "colab": {
          "base_uri": "https://localhost:8080/",
          "height": 278
        }
      },
      "source": [
        "# plot the regression line with whole data\n",
        "\n",
        "plt.scatter(df[\"YearsExperience\"], df[\"Salary\"])\n",
        "plt.plot(df[\"YearsExperience\"], y_pred, color=\"red\")\n",
        "plt.xlabel(\"YearsExperience\")\n",
        "plt.ylabel(\"Salary\")\n",
        "plt.show()"
      ],
      "execution_count": 13,
      "outputs": [
        {
          "output_type": "display_data",
          "data": {
            "image/png": "[encoded data removed]",
            "text/plain": [
              "<Figure size 432x288 with 1 Axes>"
            ]
          },
          "metadata": {
            "tags": [],
            "needs_background": "light"
          }
        }
      ]
    },
    {
      "cell_type": "markdown",
      "metadata": {
        "id": "TnCSTbN6xJY4"
      },
      "source": [
        "### Calculating SSE and MSE"
      ]
    },
    {
      "cell_type": "code",
      "metadata": {
        "id": "4UX_lmCOZE3m"
      },
      "source": [
        "# error calculating using sum of squares error\n",
        "\n",
        "def sum_of_squares_error(input, output, slope, intercept):\n",
        "  predict = slope*input + intercept\n",
        "  residual = (output - predict)\n",
        "\n",
        "  SSE = (residual*residual).sum()\n",
        "\n",
        "  return SSE\n"
      ],
      "execution_count": 14,
      "outputs": []
    },
    {
      "cell_type": "code",
      "metadata": {
        "id": "56SBHFwEadiU",
        "outputId": "6fae0a31-3dac-413a-dfa3-223ee05a8c10",
        "colab": {
          "base_uri": "https://localhost:8080/",
          "height": 34
        }
      },
      "source": [
        "SSE = sum_of_squares_error(df[\"YearsExperience\"], df[\"Salary\"],actual_slope, actual_intercept)\n",
        "print(\"Sum of squre error: \", SSE)"
      ],
      "execution_count": 15,
      "outputs": [
        {
          "output_type": "stream",
          "text": [
            "Sum of squre error:  1057390424.8320996\n"
          ],
          "name": "stdout"
        }
      ]
    },
    {
      "cell_type": "code",
      "metadata": {
        "id": "0N9YpSEQ3pFe",
        "outputId": "00360158-8c0f-4807-8acc-e6840854d1a1",
        "colab": {
          "base_uri": "https://localhost:8080/",
          "height": 34
        }
      },
      "source": [
        "# calculating mean square error\n",
        "mse = mean_squared_error(df[\"Salary\"], y_pred)\n",
        "\n",
        "print(\"Mean squre error: \", mse)"
      ],
      "execution_count": 16,
      "outputs": [
        {
          "output_type": "stream",
          "text": [
            "Mean squre error:  35246347.49440332\n"
          ],
          "name": "stdout"
        }
      ]
    },
    {
      "cell_type": "code",
      "metadata": {
        "id": "OKxpWl3U4mrs"
      },
      "source": [
        ""
      ],
      "execution_count": null,
      "outputs": []
    },
    {
      "cell_type": "markdown",
      "metadata": {
        "id": "fWGx0fz0JSCX"
      },
      "source": [
        "#Simple Linear Regression Using Scikit-learn"
      ]
    },
    {
      "cell_type": "code",
      "metadata": {
        "id": "S-M9WF21JRS8"
      },
      "source": [
        "df = pd.read_csv(\"/content/Salary_Data.csv\")"
      ],
      "execution_count": 17,
      "outputs": []
    },
    {
      "cell_type": "code",
      "metadata": {
        "id": "wmDO8WwjOqWf"
      },
      "source": [
        "# to using linear regression model\n",
        "X= df[\"YearsExperience\"].values.reshape(-1, 1)\n",
        "Y= df[\"Salary\"].values.reshape(-1, 1)"
      ],
      "execution_count": 18,
      "outputs": []
    },
    {
      "cell_type": "code",
      "metadata": {
        "id": "0a9qSNuz8QoW"
      },
      "source": [
        "# train test data split\n",
        "X_train, X_test, y_train, y_test = train_test_split(X,Y, test_size=0.3, random_state=30)"
      ],
      "execution_count": 19,
      "outputs": []
    },
    {
      "cell_type": "code",
      "metadata": {
        "id": "KWZ6bsARO8Af"
      },
      "source": [
        "regr = LinearRegression()"
      ],
      "execution_count": 20,
      "outputs": []
    },
    {
      "cell_type": "code",
      "metadata": {
        "id": "MNtU6fH2PEqX"
      },
      "source": [
        "model = regr.fit(X_train, y_train)"
      ],
      "execution_count": 21,
      "outputs": []
    },
    {
      "cell_type": "markdown",
      "metadata": {
        "id": "lgBjVCJLzAUl"
      },
      "source": [
        "###Calcuate Slope and Intercept"
      ]
    },
    {
      "cell_type": "code",
      "metadata": {
        "id": "mwK1qQ6iR7Oz",
        "outputId": "e4a3aede-50cc-46ff-8b45-e4991bed01fa",
        "colab": {
          "base_uri": "https://localhost:8080/",
          "height": 34
        }
      },
      "source": [
        "# Slope\n",
        "print(regr.coef_[0])"
      ],
      "execution_count": 22,
      "outputs": [
        {
          "output_type": "stream",
          "text": [
            "[9846.5759533]\n"
          ],
          "name": "stdout"
        }
      ]
    },
    {
      "cell_type": "code",
      "metadata": {
        "id": "8TZ5uv7eR-HY",
        "outputId": "ed878f1a-85a9-40af-f35e-633ae399688b",
        "colab": {
          "base_uri": "https://localhost:8080/",
          "height": 34
        }
      },
      "source": [
        "# Intercept\n",
        "print(regr.intercept_)"
      ],
      "execution_count": 23,
      "outputs": [
        {
          "output_type": "stream",
          "text": [
            "[23278.82210193]\n"
          ],
          "name": "stdout"
        }
      ]
    },
    {
      "cell_type": "code",
      "metadata": {
        "id": "vYHM50fXSM6L"
      },
      "source": [
        "predicted_data = regr.predict(X_test)"
      ],
      "execution_count": 24,
      "outputs": []
    },
    {
      "cell_type": "code",
      "metadata": {
        "id": "nmuGmqnkTClK",
        "outputId": "81aa545a-90af-4365-e9bc-ac80fe7379ea",
        "colab": {
          "base_uri": "https://localhost:8080/",
          "height": 176
        }
      },
      "source": [
        "predicted_data"
      ],
      "execution_count": 25,
      "outputs": [
        {
          "output_type": "execute_result",
          "data": {
            "text/plain": [
              "array([[ 71527.04427312],\n",
              "       [124698.55442095],\n",
              "       [116821.29365831],\n",
              "       [ 61680.46831981],\n",
              "       [108944.03289567],\n",
              "       [ 34110.05565056],\n",
              "       [ 54787.8651525 ],\n",
              "       [ 52818.54996184],\n",
              "       [111898.00568166]])"
            ]
          },
          "metadata": {
            "tags": []
          },
          "execution_count": 25
        }
      ]
    },
    {
      "cell_type": "code",
      "metadata": {
        "id": "lyvPt_5xTNML",
        "outputId": "3d69519d-08a8-4768-9ad3-5eedd84b3751",
        "colab": {
          "base_uri": "https://localhost:8080/",
          "height": 278
        }
      },
      "source": [
        "#Plot the regression line for testing data\n",
        "plt.scatter(X_test, y_test)\n",
        "plt.plot(X_test, predicted_data, color=\"red\")\n",
        "plt.xlabel(\"YearsExperience\")\n",
        "plt.ylabel(\"Salary\")\n",
        "plt.show()"
      ],
      "execution_count": 26,
      "outputs": [
        {
          "output_type": "display_data",
          "data": {
            "image/png": "[encoded data removed]",
            "text/plain": [
              "<Figure size 432x288 with 1 Axes>"
            ]
          },
          "metadata": {
            "tags": [],
            "needs_background": "light"
          }
        }
      ]
    },
    {
      "cell_type": "markdown",
      "metadata": {
        "id": "EDCxtQ_4zJAd"
      },
      "source": [
        "### Calculating SSE and MSE"
      ]
    },
    {
      "cell_type": "code",
      "metadata": {
        "id": "_R4VNM4CTnkg",
        "outputId": "372e690c-dea9-4343-dabe-edd6d6a2b202",
        "colab": {
          "base_uri": "https://localhost:8080/",
          "height": 34
        }
      },
      "source": [
        "\n",
        "print(\"Mean squared error: {}\".format(mean_squared_error(y_test, predicted_data)))"
      ],
      "execution_count": 27,
      "outputs": [
        {
          "output_type": "stream",
          "text": [
            "Mean squared error: 26123894.60572844\n"
          ],
          "name": "stdout"
        }
      ]
    },
    {
      "cell_type": "code",
      "metadata": {
        "id": "NVZCYnhcUIUP"
      },
      "source": [
        "res = predicted_data- y_test\n",
        "RSS =(res*res).sum()"
      ],
      "execution_count": 28,
      "outputs": []
    },
    {
      "cell_type": "code",
      "metadata": {
        "id": "j1_G_WGSrhmB",
        "outputId": "27e05e0e-06e5-4342-f3a3-142f1687546c",
        "colab": {
          "base_uri": "https://localhost:8080/",
          "height": 34
        }
      },
      "source": [
        "print(\"Residual sum of squares: \",  RSS)"
      ],
      "execution_count": 29,
      "outputs": [
        {
          "output_type": "stream",
          "text": [
            "Residual sum of squares:  235115051.45155597\n"
          ],
          "name": "stdout"
        }
      ]
    }
  ]
}